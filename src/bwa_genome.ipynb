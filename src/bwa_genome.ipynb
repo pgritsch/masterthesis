{
 "cells": [
  {
   "cell_type": "code",
   "execution_count": 2,
   "id": "0256338d-c269-4c4b-b2a6-192eb4cf98d1",
   "metadata": {
    "tags": [],
    "ExecuteTime": {
     "end_time": "2023-06-25T12:26:25.844859600Z",
     "start_time": "2023-06-25T12:26:25.626703400Z"
    }
   },
   "outputs": [],
   "source": [
    "import numpy as np\n",
    "import pandas as pd\n",
    "from sklearn import preprocessing\n",
    "import math\n",
    "from xgboost import XGBRegressor\n",
    "import sklearn.metrics as s_m\n",
    "from hyperopt import STATUS_OK, Trials, fmin, hp, tpe, space_eval\n",
    "from hyperopt.pyll import scope\n",
    "from sklearn.model_selection import GridSearchCV\n",
    "from data_preparation import *\n",
    "from util import *\n",
    "from xgboost_util import *"
   ]
  },
  {
   "cell_type": "code",
   "execution_count": 3,
   "outputs": [],
   "source": [
    "df = load_preprocessed_dataset(remove_duplicates=True)"
   ],
   "metadata": {
    "collapsed": false,
    "ExecuteTime": {
     "end_time": "2023-06-25T12:26:25.869583800Z",
     "start_time": "2023-06-25T12:26:25.844859600Z"
    }
   }
  },
  {
   "cell_type": "code",
   "execution_count": 4,
   "id": "cce8aa56-a7e5-4cba-8904-93ce0634fcd1",
   "metadata": {
    "tags": [],
    "ExecuteTime": {
     "end_time": "2023-06-25T12:26:26.040454900Z",
     "start_time": "2023-06-25T12:26:26.027845600Z"
    }
   },
   "outputs": [
    {
     "name": "stdout",
     "output_type": "stream",
     "text": [
      "<class 'pandas.core.frame.DataFrame'>\n",
      "Index: 1638 entries, 1909 to 768\n",
      "Data columns (total 31 columns):\n",
      " #   Column               Non-Null Count  Dtype         \n",
      "---  ------               --------------  -----         \n",
      " 0   storageRegion        1638 non-null   object        \n",
      " 1   storageProvider      1638 non-null   object        \n",
      " 2   functionId           1638 non-null   object        \n",
      " 3   functionName         1638 non-null   object        \n",
      " 4   functionType         1638 non-null   object        \n",
      " 5   RTT                  1638 non-null   float64       \n",
      " 6   loopCounter          1638 non-null   float64       \n",
      " 7   maxLoopCounter       1638 non-null   float64       \n",
      " 8   startTime            1638 non-null   datetime64[ns]\n",
      " 9   endTime              1638 non-null   datetime64[ns]\n",
      " 10  upAll                1638 non-null   float64       \n",
      " 11  downAll              1638 non-null   float64       \n",
      " 12  numberDownloadFiles  1638 non-null   int64         \n",
      " 13  sizeDownloadInMB     1638 non-null   float64       \n",
      " 14  numberUploadFiles    1638 non-null   int64         \n",
      " 15  sizeUploadInMB       1638 non-null   float64       \n",
      " 16  functionProvider     1638 non-null   object        \n",
      " 17  functionRegion       1638 non-null   object        \n",
      " 18  wfType               1638 non-null   object        \n",
      " 19  functionRegionEnc    1638 non-null   int32         \n",
      " 20  storageRegionEnc     1638 non-null   int32         \n",
      " 21  functionProviderEnc  1638 non-null   int32         \n",
      " 22  storageProviderEnc   1638 non-null   int32         \n",
      " 23  functionNameEnc      1638 non-null   int32         \n",
      " 24  functionTypeEnc      1638 non-null   int32         \n",
      " 25  wfTypeEnc            1638 non-null   int32         \n",
      " 26  dayofweek            1638 non-null   int32         \n",
      " 27  timeofday            1638 non-null   int32         \n",
      " 28  ct                   1638 non-null   float64       \n",
      " 29  datatransferTime     1638 non-null   float64       \n",
      " 30  kFoldGroupEnc        1638 non-null   int32         \n",
      "dtypes: datetime64[ns](2), float64(9), int32(10), int64(2), object(8)\n",
      "memory usage: 345.5+ KB\n"
     ]
    }
   ],
   "source": [
    "df.info()"
   ]
  },
  {
   "cell_type": "code",
   "execution_count": 5,
   "outputs": [],
   "source": [
    "#df[(df['wfType'] == 'bwa') & (df['functionProvider'] == 'GCP') & (df['storageRegion'] == 'northVirginia') & (df['functionName'] == 'bwaMerge') & (df['functionRegion'] == 'centralEurope')]"
   ],
   "metadata": {
    "collapsed": false,
    "ExecuteTime": {
     "end_time": "2023-06-25T12:26:27.127934100Z",
     "start_time": "2023-06-25T12:26:27.122912700Z"
    }
   }
  },
  {
   "cell_type": "code",
   "execution_count": 6,
   "id": "c70dae89-f5ae-4bc6-b80d-1e16dfd60ecf",
   "metadata": {
    "tags": [],
    "ExecuteTime": {
     "end_time": "2023-06-25T12:26:27.669736600Z",
     "start_time": "2023-06-25T12:26:27.660714300Z"
    }
   },
   "outputs": [],
   "source": [
    "network_related_cols = ['numberDownloadFiles', 'sizeDownloadInMB', 'numberUploadFiles', 'sizeUploadInMB', 'storageRegionEnc', 'storageProviderEnc']\n",
    "concurrency_related_cols = ['loopCounter', 'maxLoopCounter']\n",
    "function_related_cols = ['functionRegionEnc', 'functionProviderEnc', 'functionNameEnc', 'functionTypeEnc', 'wfTypeEnc']\n",
    "time_related_cols = ['dayofweek', 'timeofday']\n",
    "\n",
    "input_cols = network_related_cols + function_related_cols\n",
    "output_col_rtt = 'RTT'\n",
    "output_col_ct = 'ct'\n",
    "group_col = 'kFoldGroupEnc'"
   ]
  },
  {
   "cell_type": "markdown",
   "source": [],
   "metadata": {
    "collapsed": false
   }
  },
  {
   "cell_type": "code",
   "execution_count": 9,
   "id": "677edeea-f5ab-42ba-bde3-a1709b0d32fa",
   "metadata": {
    "tags": [],
    "ExecuteTime": {
     "end_time": "2023-06-25T12:26:50.243082500Z",
     "start_time": "2023-06-25T12:26:50.230340700Z"
    }
   },
   "outputs": [],
   "source": [
    "df_temp = df[(df['functionName'] != 'genomePreparePop') & (df['functionName'] != 'genomeIndividualsMerge')]\n",
    "X_train, y_train, groups_train, X_test, y_test, _, df_test = train_test_split_with_criterion(lambda x: (x['wfType'] == 'genome' and x['functionProvider'] == 'AWS'), df_temp, input_cols, output_col_rtt, group_col)"
   ]
  },
  {
   "cell_type": "code",
   "execution_count": 23,
   "id": "de0d1bf1-7062-4448-b791-ad5d5c663469",
   "metadata": {
    "tags": [],
    "ExecuteTime": {
     "end_time": "2023-06-23T17:39:12.837805300Z",
     "start_time": "2023-06-23T17:39:12.833853800Z"
    }
   },
   "outputs": [],
   "source": [
    "#X_train, y_train, group_train, X_test, y_test = train_test_split_with_criterion(lambda x: (x['functionName'] == 'bwaAlnR1' and x['provider'] == 'AWS'), df, input_cols, output_col)"
   ]
  },
  {
   "cell_type": "code",
   "execution_count": 24,
   "id": "db563302-4cb5-4b49-9f3e-076b3d77f5c5",
   "metadata": {
    "tags": [],
    "ExecuteTime": {
     "end_time": "2023-06-23T17:39:13.014984100Z",
     "start_time": "2023-06-23T17:39:13.009113600Z"
    }
   },
   "outputs": [],
   "source": [
    "#X_train, y_train, group_train, X_test, y_test = train_test_split_with_criterion(lambda x: x['kFoldGroupEnc'] == 30, df, input_cols, output_col)"
   ]
  },
  {
   "cell_type": "code",
   "execution_count": 51,
   "outputs": [],
   "source": [
    "def hyperopt_objective_tree(space: dict):\n",
    "    custom_splitter = CousinCrossValidation.split(X=X_train, y=y_train, groups=groups_train)\n",
    "    model = XGBRegressor()\n",
    "\n",
    "    for k, v in space.items():\n",
    "        space[k] = [v]\n",
    "\n",
    "    search = GridSearchCV(estimator=model,\n",
    "                          param_grid=space,\n",
    "                          scoring=\"neg_root_mean_squared_error\",\n",
    "                          cv=custom_splitter,\n",
    "                          verbose=0,\n",
    "                          return_train_score=False)\n",
    "\n",
    "    print(space)\n",
    "\n",
    "    search.fit(X=X_train, y=y_train, groups=groups_train)\n",
    "    return {'loss': -1.0 * search.best_score_, 'status': STATUS_OK}"
   ],
   "metadata": {
    "collapsed": false,
    "ExecuteTime": {
     "end_time": "2023-06-20T12:05:03.918765700Z",
     "start_time": "2023-06-20T12:05:03.907587800Z"
    }
   }
  },
  {
   "cell_type": "code",
   "execution_count": 7,
   "outputs": [
    {
     "ename": "NameError",
     "evalue": "name 'hyperopt_objective_tree' is not defined",
     "output_type": "error",
     "traceback": [
      "\u001B[1;31m---------------------------------------------------------------------------\u001B[0m",
      "\u001B[1;31mNameError\u001B[0m                                 Traceback (most recent call last)",
      "Cell \u001B[1;32mIn[7], line 30\u001B[0m\n\u001B[0;32m      1\u001B[0m space \u001B[38;5;241m=\u001B[39m hp\u001B[38;5;241m.\u001B[39mchoice(\u001B[38;5;124m'\u001B[39m\u001B[38;5;124mclassifier_type\u001B[39m\u001B[38;5;124m'\u001B[39m, [\n\u001B[0;32m      2\u001B[0m     {\n\u001B[0;32m      3\u001B[0m         \u001B[38;5;124m'\u001B[39m\u001B[38;5;124mbooster\u001B[39m\u001B[38;5;124m'\u001B[39m: \u001B[38;5;124m'\u001B[39m\u001B[38;5;124mgbtree\u001B[39m\u001B[38;5;124m'\u001B[39m,\n\u001B[1;32m   (...)\u001B[0m\n\u001B[0;32m     26\u001B[0m     }\n\u001B[0;32m     27\u001B[0m ])\n\u001B[0;32m     29\u001B[0m trials \u001B[38;5;241m=\u001B[39m Trials()\n\u001B[1;32m---> 30\u001B[0m fmin_result \u001B[38;5;241m=\u001B[39m fmin(fn\u001B[38;5;241m=\u001B[39m\u001B[43mhyperopt_objective_tree\u001B[49m, space\u001B[38;5;241m=\u001B[39mspace, algo\u001B[38;5;241m=\u001B[39mtpe\u001B[38;5;241m.\u001B[39msuggest, max_evals\u001B[38;5;241m=\u001B[39m\u001B[38;5;241m20\u001B[39m, trials\u001B[38;5;241m=\u001B[39mtrials)\n\u001B[0;32m     31\u001B[0m opt_params \u001B[38;5;241m=\u001B[39m space_eval(space, fmin_result)\n\u001B[0;32m     32\u001B[0m opt_params\n",
      "\u001B[1;31mNameError\u001B[0m: name 'hyperopt_objective_tree' is not defined"
     ]
    }
   ],
   "source": [
    "space = hp.choice('classifier_type', [\n",
    "    {\n",
    "        'booster': 'gbtree',\n",
    "        'max_depth': scope.int(hp.quniform('max_depth', 3, 18, 1)),\n",
    "        'gamma': hp.uniform('gamma', 1, 9),\n",
    "        'eta': hp.uniform('eta', 0.2, 0.5),\n",
    "        'reg_alpha': hp.uniform('reg_alpha', 0, 4),\n",
    "        'reg_lambda': hp.uniform('reg_lambda', 0, 4),\n",
    "        'colsample_bytree': hp.uniform('colsample_bytree', 0.6, 1),\n",
    "        'min_child_weight': scope.int(hp.quniform('min_child_weight', 0, 10, 1)),\n",
    "    },\n",
    "    #{ overfitting hell\n",
    "    #    'booster': 'gblinear',\n",
    "    #    'reg_lambda': hp.uniform('lin_reg_lambda', 0, 4),\n",
    "    #    'reg_alpha': hp.uniform('lin_reg_alpha', 0, 4),\n",
    "    #},\n",
    "    {\n",
    "        'booster': 'dart',\n",
    "        'max_depth': scope.int(hp.quniform('max_depth_', 3, 18, 1)),\n",
    "        'gamma': hp.uniform('gamma_', 1, 9),\n",
    "        'eta': hp.uniform('eta_', 0.2, 0.5),\n",
    "        'sample_type': hp.choice('sample_type', ['uniform', 'weighted']),\n",
    "        'rate_drop': hp.uniform('rate_drop', 0, 1),\n",
    "        'one_drop': hp.choice('one_drop', [0, 1]),\n",
    "        'skip_drop': hp.uniform('skip_drop', 0, 1)\n",
    "    }\n",
    "])\n",
    "\n",
    "trials = Trials()\n",
    "fmin_result = fmin(fn=hyperopt_objective_tree, space=space, algo=tpe.suggest, max_evals=20, trials=trials)\n",
    "opt_params = space_eval(space, fmin_result)\n",
    "opt_params"
   ],
   "metadata": {
    "collapsed": false,
    "ExecuteTime": {
     "end_time": "2023-06-25T12:08:10.710387600Z",
     "start_time": "2023-06-25T12:08:10.471269900Z"
    }
   }
  },
  {
   "cell_type": "code",
   "execution_count": 10,
   "outputs": [
    {
     "name": "stdout",
     "output_type": "stream",
     "text": [
      "Mean MSE: 32.417 \n",
      "Mean ASE: 3.905 \n",
      "Mean APE: 0.188\n"
     ]
    }
   ],
   "source": [
    "model = XGBRegressor(**get_ideal_params())\n",
    "#model = XGBRegressor()\n",
    "# define model evaluation method\n",
    "#cv = RepeatedKFold(n_splits=10, n_repeats=3, random_state=1)\n",
    "# evaluate model\n",
    "#scores = cross_val_score(model, x, y, scoring='neg_mean_absolute_error', cv=cv, n_jobs=-1, error_score=\"raise\")\n",
    "# force scores to be positive\n",
    "\n",
    "model.fit(X_train, y_train)\n",
    "\n",
    "predictions = model.predict(X_test)\n",
    "\n",
    "mse = s_m.mean_squared_error(y_test, predictions)\n",
    "ase = s_m.mean_absolute_error(y_test, predictions)\n",
    "mape = s_m.mean_absolute_percentage_error(y_test, predictions)\n",
    "\n",
    "print('Mean MSE: %.3f \\nMean ASE: %.3f \\nMean APE: %.3f' % (mse, ase, mape))"
   ],
   "metadata": {
    "collapsed": false,
    "ExecuteTime": {
     "end_time": "2023-06-25T12:26:53.660199100Z",
     "start_time": "2023-06-25T12:26:53.561036900Z"
    }
   }
  },
  {
   "cell_type": "code",
   "execution_count": 11,
   "id": "a3802555-b3f3-43e7-a0f3-59fc65eddf1d",
   "metadata": {
    "tags": [],
    "ExecuteTime": {
     "end_time": "2023-06-25T12:26:58.718512900Z",
     "start_time": "2023-06-25T12:26:58.710167700Z"
    }
   },
   "outputs": [
    {
     "name": "stderr",
     "output_type": "stream",
     "text": [
      "C:\\Users\\Philipp\\AppData\\Local\\Temp\\ipykernel_5380\\1877919623.py:1: SettingWithCopyWarning: \n",
      "A value is trying to be set on a copy of a slice from a DataFrame.\n",
      "Try using .loc[row_indexer,col_indexer] = value instead\n",
      "\n",
      "See the caveats in the documentation: https://pandas.pydata.org/pandas-docs/stable/user_guide/indexing.html#returning-a-view-versus-a-copy\n",
      "  df_test['mape'] = np.abs(y_test - predictions) / y_test\n",
      "C:\\Users\\Philipp\\AppData\\Local\\Temp\\ipykernel_5380\\1877919623.py:2: SettingWithCopyWarning: \n",
      "A value is trying to be set on a copy of a slice from a DataFrame.\n",
      "Try using .loc[row_indexer,col_indexer] = value instead\n",
      "\n",
      "See the caveats in the documentation: https://pandas.pydata.org/pandas-docs/stable/user_guide/indexing.html#returning-a-view-versus-a-copy\n",
      "  df_test['pred'] = predictions\n"
     ]
    }
   ],
   "source": [
    "df_test['mape'] = np.abs(y_test - predictions) / y_test\n",
    "df_test['pred'] = predictions"
   ]
  },
  {
   "cell_type": "code",
   "execution_count": 12,
   "id": "8d6de0ce-b417-4ad6-81f9-5860c50f27cc",
   "metadata": {
    "tags": [],
    "ExecuteTime": {
     "end_time": "2023-06-25T12:26:58.917886900Z",
     "start_time": "2023-06-25T12:26:58.893493500Z"
    }
   },
   "outputs": [
    {
     "data": {
      "text/plain": "      storageRegion storageProvider   \n265  northernEurope             AWS  \\\n248  northernEurope             AWS   \n249  northernEurope             AWS   \n250  northernEurope             AWS   \n287  northernEurope             AWS   \n..              ...             ...   \n397   northVirginia             AWS   \n236  northernEurope             AWS   \n237  northernEurope             AWS   \n238  northernEurope             AWS   \n239  northernEurope             AWS   \n\n                                            functionId         functionName   \n265  arn:aws:lambda:eu-west-2:717556240325:function...        genomeSifting  \\\n248  arn:aws:lambda:eu-west-2:717556240325:function...  genomeMutualOverlap   \n249  arn:aws:lambda:eu-west-2:717556240325:function...  genomeMutualOverlap   \n250  arn:aws:lambda:eu-west-2:717556240325:function...  genomeMutualOverlap   \n287  arn:aws:lambda:eu-west-2:717556240325:function...        genomeSifting   \n..                                                 ...                  ...   \n397  arn:aws:lambda:eu-west-2:717556240325:function...        genomeSifting   \n236  arn:aws:lambda:eu-west-2:717556240325:function...      genomeFrequency   \n237  arn:aws:lambda:eu-west-2:717556240325:function...      genomeFrequency   \n238  arn:aws:lambda:eu-west-2:717556240325:function...      genomeFrequency   \n239  arn:aws:lambda:eu-west-2:717556240325:function...      genomeFrequency   \n\n                functionType      RTT  loopCounter  maxLoopCounter   \n265        genomeSiftingType    3.906         -1.0            -1.0  \\\n248  genomeMutualOverlapType    3.372          6.0             6.0   \n249  genomeMutualOverlapType    3.385          3.0             6.0   \n250  genomeMutualOverlapType    3.400          0.0             6.0   \n287        genomeSiftingType    3.993         -1.0            -1.0   \n..                       ...      ...          ...             ...   \n397        genomeSiftingType    6.888         -1.0            -1.0   \n236      genomeFrequencyType  142.327          5.0             6.0   \n237      genomeFrequencyType  142.473          3.0             6.0   \n238      genomeFrequencyType  142.648          2.0             6.0   \n239      genomeFrequencyType  143.127          1.0             6.0   \n\n                  startTime                 endTime  ...  functionNameEnc   \n265 2023-04-07 13:10:45.169 2023-04-07 13:10:49.075  ...               12  \\\n248 2023-04-07 13:08:23.528 2023-04-07 13:08:26.900  ...               10   \n249 2023-04-07 13:08:23.523 2023-04-07 13:08:26.908  ...               10   \n250 2023-04-07 13:08:23.521 2023-04-07 13:08:26.921  ...               10   \n287 2023-04-07 13:13:15.058 2023-04-07 13:13:19.051  ...               12   \n..                      ...                     ...  ...              ...   \n397 2023-04-07 13:26:07.975 2023-04-07 13:26:14.863  ...               12   \n236 2023-04-07 13:05:50.491 2023-04-07 13:08:12.818  ...                7   \n237 2023-04-07 13:05:50.490 2023-04-07 13:08:12.963  ...                7   \n238 2023-04-07 13:05:50.490 2023-04-07 13:08:13.138  ...                7   \n239 2023-04-07 13:05:50.491 2023-04-07 13:08:13.618  ...                7   \n\n     functionTypeEnc  wfTypeEnc  dayofweek  timeofday       ct   \n265               12          1          4      47445    3.111  \\\n248               10          1          4      47303    2.569   \n249               10          1          4      47303    2.540   \n250               10          1          4      47303    2.577   \n287               12          1          4      47595    3.187   \n..               ...        ...        ...        ...      ...   \n397               12          1          4      48367    3.228   \n236                7          1          4      47150  140.965   \n237                7          1          4      47150  141.208   \n238                7          1          4      47150  141.184   \n239                7          1          4      47150  141.818   \n\n    datatransferTime kFoldGroupEnc      mape        pred  \n265            0.795            49  0.689943    6.600918  \n248            0.803            41  0.668135    5.624953  \n249            0.845            41  0.661729    5.624953  \n250            0.823            41  0.654398    5.624953  \n287            0.806            49  0.653122    6.600918  \n..               ...           ...       ...         ...  \n397            3.660            49  0.005426    6.850627  \n236            1.362            29  0.003959  142.890472  \n237            1.265            29  0.002930  142.890472  \n238            1.464            29  0.001700  142.890472  \n239            1.309            29  0.001653  142.890472  \n\n[340 rows x 33 columns]",
      "text/html": "<div>\n<style scoped>\n    .dataframe tbody tr th:only-of-type {\n        vertical-align: middle;\n    }\n\n    .dataframe tbody tr th {\n        vertical-align: top;\n    }\n\n    .dataframe thead th {\n        text-align: right;\n    }\n</style>\n<table border=\"1\" class=\"dataframe\">\n  <thead>\n    <tr style=\"text-align: right;\">\n      <th></th>\n      <th>storageRegion</th>\n      <th>storageProvider</th>\n      <th>functionId</th>\n      <th>functionName</th>\n      <th>functionType</th>\n      <th>RTT</th>\n      <th>loopCounter</th>\n      <th>maxLoopCounter</th>\n      <th>startTime</th>\n      <th>endTime</th>\n      <th>...</th>\n      <th>functionNameEnc</th>\n      <th>functionTypeEnc</th>\n      <th>wfTypeEnc</th>\n      <th>dayofweek</th>\n      <th>timeofday</th>\n      <th>ct</th>\n      <th>datatransferTime</th>\n      <th>kFoldGroupEnc</th>\n      <th>mape</th>\n      <th>pred</th>\n    </tr>\n  </thead>\n  <tbody>\n    <tr>\n      <th>265</th>\n      <td>northernEurope</td>\n      <td>AWS</td>\n      <td>arn:aws:lambda:eu-west-2:717556240325:function...</td>\n      <td>genomeSifting</td>\n      <td>genomeSiftingType</td>\n      <td>3.906</td>\n      <td>-1.0</td>\n      <td>-1.0</td>\n      <td>2023-04-07 13:10:45.169</td>\n      <td>2023-04-07 13:10:49.075</td>\n      <td>...</td>\n      <td>12</td>\n      <td>12</td>\n      <td>1</td>\n      <td>4</td>\n      <td>47445</td>\n      <td>3.111</td>\n      <td>0.795</td>\n      <td>49</td>\n      <td>0.689943</td>\n      <td>6.600918</td>\n    </tr>\n    <tr>\n      <th>248</th>\n      <td>northernEurope</td>\n      <td>AWS</td>\n      <td>arn:aws:lambda:eu-west-2:717556240325:function...</td>\n      <td>genomeMutualOverlap</td>\n      <td>genomeMutualOverlapType</td>\n      <td>3.372</td>\n      <td>6.0</td>\n      <td>6.0</td>\n      <td>2023-04-07 13:08:23.528</td>\n      <td>2023-04-07 13:08:26.900</td>\n      <td>...</td>\n      <td>10</td>\n      <td>10</td>\n      <td>1</td>\n      <td>4</td>\n      <td>47303</td>\n      <td>2.569</td>\n      <td>0.803</td>\n      <td>41</td>\n      <td>0.668135</td>\n      <td>5.624953</td>\n    </tr>\n    <tr>\n      <th>249</th>\n      <td>northernEurope</td>\n      <td>AWS</td>\n      <td>arn:aws:lambda:eu-west-2:717556240325:function...</td>\n      <td>genomeMutualOverlap</td>\n      <td>genomeMutualOverlapType</td>\n      <td>3.385</td>\n      <td>3.0</td>\n      <td>6.0</td>\n      <td>2023-04-07 13:08:23.523</td>\n      <td>2023-04-07 13:08:26.908</td>\n      <td>...</td>\n      <td>10</td>\n      <td>10</td>\n      <td>1</td>\n      <td>4</td>\n      <td>47303</td>\n      <td>2.540</td>\n      <td>0.845</td>\n      <td>41</td>\n      <td>0.661729</td>\n      <td>5.624953</td>\n    </tr>\n    <tr>\n      <th>250</th>\n      <td>northernEurope</td>\n      <td>AWS</td>\n      <td>arn:aws:lambda:eu-west-2:717556240325:function...</td>\n      <td>genomeMutualOverlap</td>\n      <td>genomeMutualOverlapType</td>\n      <td>3.400</td>\n      <td>0.0</td>\n      <td>6.0</td>\n      <td>2023-04-07 13:08:23.521</td>\n      <td>2023-04-07 13:08:26.921</td>\n      <td>...</td>\n      <td>10</td>\n      <td>10</td>\n      <td>1</td>\n      <td>4</td>\n      <td>47303</td>\n      <td>2.577</td>\n      <td>0.823</td>\n      <td>41</td>\n      <td>0.654398</td>\n      <td>5.624953</td>\n    </tr>\n    <tr>\n      <th>287</th>\n      <td>northernEurope</td>\n      <td>AWS</td>\n      <td>arn:aws:lambda:eu-west-2:717556240325:function...</td>\n      <td>genomeSifting</td>\n      <td>genomeSiftingType</td>\n      <td>3.993</td>\n      <td>-1.0</td>\n      <td>-1.0</td>\n      <td>2023-04-07 13:13:15.058</td>\n      <td>2023-04-07 13:13:19.051</td>\n      <td>...</td>\n      <td>12</td>\n      <td>12</td>\n      <td>1</td>\n      <td>4</td>\n      <td>47595</td>\n      <td>3.187</td>\n      <td>0.806</td>\n      <td>49</td>\n      <td>0.653122</td>\n      <td>6.600918</td>\n    </tr>\n    <tr>\n      <th>...</th>\n      <td>...</td>\n      <td>...</td>\n      <td>...</td>\n      <td>...</td>\n      <td>...</td>\n      <td>...</td>\n      <td>...</td>\n      <td>...</td>\n      <td>...</td>\n      <td>...</td>\n      <td>...</td>\n      <td>...</td>\n      <td>...</td>\n      <td>...</td>\n      <td>...</td>\n      <td>...</td>\n      <td>...</td>\n      <td>...</td>\n      <td>...</td>\n      <td>...</td>\n      <td>...</td>\n    </tr>\n    <tr>\n      <th>397</th>\n      <td>northVirginia</td>\n      <td>AWS</td>\n      <td>arn:aws:lambda:eu-west-2:717556240325:function...</td>\n      <td>genomeSifting</td>\n      <td>genomeSiftingType</td>\n      <td>6.888</td>\n      <td>-1.0</td>\n      <td>-1.0</td>\n      <td>2023-04-07 13:26:07.975</td>\n      <td>2023-04-07 13:26:14.863</td>\n      <td>...</td>\n      <td>12</td>\n      <td>12</td>\n      <td>1</td>\n      <td>4</td>\n      <td>48367</td>\n      <td>3.228</td>\n      <td>3.660</td>\n      <td>49</td>\n      <td>0.005426</td>\n      <td>6.850627</td>\n    </tr>\n    <tr>\n      <th>236</th>\n      <td>northernEurope</td>\n      <td>AWS</td>\n      <td>arn:aws:lambda:eu-west-2:717556240325:function...</td>\n      <td>genomeFrequency</td>\n      <td>genomeFrequencyType</td>\n      <td>142.327</td>\n      <td>5.0</td>\n      <td>6.0</td>\n      <td>2023-04-07 13:05:50.491</td>\n      <td>2023-04-07 13:08:12.818</td>\n      <td>...</td>\n      <td>7</td>\n      <td>7</td>\n      <td>1</td>\n      <td>4</td>\n      <td>47150</td>\n      <td>140.965</td>\n      <td>1.362</td>\n      <td>29</td>\n      <td>0.003959</td>\n      <td>142.890472</td>\n    </tr>\n    <tr>\n      <th>237</th>\n      <td>northernEurope</td>\n      <td>AWS</td>\n      <td>arn:aws:lambda:eu-west-2:717556240325:function...</td>\n      <td>genomeFrequency</td>\n      <td>genomeFrequencyType</td>\n      <td>142.473</td>\n      <td>3.0</td>\n      <td>6.0</td>\n      <td>2023-04-07 13:05:50.490</td>\n      <td>2023-04-07 13:08:12.963</td>\n      <td>...</td>\n      <td>7</td>\n      <td>7</td>\n      <td>1</td>\n      <td>4</td>\n      <td>47150</td>\n      <td>141.208</td>\n      <td>1.265</td>\n      <td>29</td>\n      <td>0.002930</td>\n      <td>142.890472</td>\n    </tr>\n    <tr>\n      <th>238</th>\n      <td>northernEurope</td>\n      <td>AWS</td>\n      <td>arn:aws:lambda:eu-west-2:717556240325:function...</td>\n      <td>genomeFrequency</td>\n      <td>genomeFrequencyType</td>\n      <td>142.648</td>\n      <td>2.0</td>\n      <td>6.0</td>\n      <td>2023-04-07 13:05:50.490</td>\n      <td>2023-04-07 13:08:13.138</td>\n      <td>...</td>\n      <td>7</td>\n      <td>7</td>\n      <td>1</td>\n      <td>4</td>\n      <td>47150</td>\n      <td>141.184</td>\n      <td>1.464</td>\n      <td>29</td>\n      <td>0.001700</td>\n      <td>142.890472</td>\n    </tr>\n    <tr>\n      <th>239</th>\n      <td>northernEurope</td>\n      <td>AWS</td>\n      <td>arn:aws:lambda:eu-west-2:717556240325:function...</td>\n      <td>genomeFrequency</td>\n      <td>genomeFrequencyType</td>\n      <td>143.127</td>\n      <td>1.0</td>\n      <td>6.0</td>\n      <td>2023-04-07 13:05:50.491</td>\n      <td>2023-04-07 13:08:13.618</td>\n      <td>...</td>\n      <td>7</td>\n      <td>7</td>\n      <td>1</td>\n      <td>4</td>\n      <td>47150</td>\n      <td>141.818</td>\n      <td>1.309</td>\n      <td>29</td>\n      <td>0.001653</td>\n      <td>142.890472</td>\n    </tr>\n  </tbody>\n</table>\n<p>340 rows × 33 columns</p>\n</div>"
     },
     "execution_count": 12,
     "metadata": {},
     "output_type": "execute_result"
    }
   ],
   "source": [
    "df_test.sort_values(by=\"mape\", ascending=False)"
   ]
  },
  {
   "cell_type": "code",
   "execution_count": null,
   "id": "243433b4-4235-4783-bf1f-3efa3f6636c4",
   "metadata": {},
   "outputs": [],
   "source": []
  },
  {
   "cell_type": "code",
   "execution_count": null,
   "outputs": [],
   "source": [],
   "metadata": {
    "collapsed": false
   }
  },
  {
   "cell_type": "code",
   "execution_count": null,
   "outputs": [],
   "source": [],
   "metadata": {
    "collapsed": false
   }
  }
 ],
 "metadata": {
  "kernelspec": {
   "display_name": "Python 3 (ipykernel)",
   "language": "python",
   "name": "python3"
  },
  "language_info": {
   "codemirror_mode": {
    "name": "ipython",
    "version": 3
   },
   "file_extension": ".py",
   "mimetype": "text/x-python",
   "name": "python",
   "nbconvert_exporter": "python",
   "pygments_lexer": "ipython3",
   "version": "3.11.3"
  }
 },
 "nbformat": 4,
 "nbformat_minor": 5
}
