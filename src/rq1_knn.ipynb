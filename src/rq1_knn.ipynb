{
 "cells": [
  {
   "cell_type": "code",
   "execution_count": 5,
   "metadata": {
    "collapsed": true,
    "ExecuteTime": {
     "end_time": "2023-06-26T07:29:38.442488400Z",
     "start_time": "2023-06-26T07:29:38.434068600Z"
    }
   },
   "outputs": [],
   "source": [
    "from util import *\n",
    "from data_preparation import *\n",
    "from hyperopt import hp\n",
    "from hyperopt.pyll import scope\n",
    "from xgboost_util import *\n",
    "import sklearn.neighbors as s_n"
   ]
  },
  {
   "cell_type": "code",
   "execution_count": 6,
   "outputs": [
    {
     "name": "stdout",
     "output_type": "stream",
     "text": [
      "<class 'pandas.core.frame.DataFrame'>\n",
      "Index: 1638 entries, 1909 to 768\n",
      "Data columns (total 31 columns):\n",
      " #   Column               Non-Null Count  Dtype         \n",
      "---  ------               --------------  -----         \n",
      " 0   storageRegion        1638 non-null   object        \n",
      " 1   storageProvider      1638 non-null   object        \n",
      " 2   functionId           1638 non-null   object        \n",
      " 3   functionName         1638 non-null   object        \n",
      " 4   functionType         1638 non-null   object        \n",
      " 5   RTT                  1638 non-null   float64       \n",
      " 6   loopCounter          1638 non-null   float64       \n",
      " 7   maxLoopCounter       1638 non-null   float64       \n",
      " 8   startTime            1638 non-null   datetime64[ns]\n",
      " 9   endTime              1638 non-null   datetime64[ns]\n",
      " 10  upAll                1638 non-null   float64       \n",
      " 11  downAll              1638 non-null   float64       \n",
      " 12  numberDownloadFiles  1638 non-null   int64         \n",
      " 13  sizeDownloadInMB     1638 non-null   float64       \n",
      " 14  numberUploadFiles    1638 non-null   int64         \n",
      " 15  sizeUploadInMB       1638 non-null   float64       \n",
      " 16  functionProvider     1638 non-null   object        \n",
      " 17  functionRegion       1638 non-null   object        \n",
      " 18  wfType               1638 non-null   object        \n",
      " 19  functionRegionEnc    1638 non-null   int32         \n",
      " 20  storageRegionEnc     1638 non-null   int32         \n",
      " 21  functionProviderEnc  1638 non-null   int32         \n",
      " 22  storageProviderEnc   1638 non-null   int32         \n",
      " 23  functionNameEnc      1638 non-null   int32         \n",
      " 24  functionTypeEnc      1638 non-null   int32         \n",
      " 25  wfTypeEnc            1638 non-null   int32         \n",
      " 26  dayofweek            1638 non-null   int32         \n",
      " 27  timeofday            1638 non-null   int32         \n",
      " 28  ct                   1638 non-null   float64       \n",
      " 29  datatransferTime     1638 non-null   float64       \n",
      " 30  kFoldGroupEnc        1638 non-null   int32         \n",
      "dtypes: datetime64[ns](2), float64(9), int32(10), int64(2), object(8)\n",
      "memory usage: 345.5+ KB\n"
     ]
    }
   ],
   "source": [
    "df = load_preprocessed_dataset(remove_duplicates=True)\n",
    "df.info()"
   ],
   "metadata": {
    "collapsed": false,
    "ExecuteTime": {
     "end_time": "2023-06-26T07:29:38.643436100Z",
     "start_time": "2023-06-26T07:29:38.632921100Z"
    }
   }
  },
  {
   "cell_type": "code",
   "execution_count": 7,
   "outputs": [],
   "source": [
    "input_cols = get_function_related_cols() + get_storage_related_cols()\n",
    "output_col = 'RTT'\n",
    "group_col = 'kFoldGroupEnc'"
   ],
   "metadata": {
    "collapsed": false,
    "ExecuteTime": {
     "end_time": "2023-06-26T07:29:38.797044200Z",
     "start_time": "2023-06-26T07:29:38.789432100Z"
    }
   }
  },
  {
   "cell_type": "code",
   "execution_count": 8,
   "outputs": [],
   "source": [
    "X_train, y_train, groups_train, X_test, y_test, _, df_test = train_test_split_with_criterion(lambda x: (x['wfType'] == 'bwa' and x['functionProvider'] == 'AWS'), df, input_cols, output_col, group_col)"
   ],
   "metadata": {
    "collapsed": false,
    "ExecuteTime": {
     "end_time": "2023-06-26T07:29:39.044664800Z",
     "start_time": "2023-06-26T07:29:39.030015300Z"
    }
   }
  },
  {
   "cell_type": "markdown",
   "source": [
    "Plain Model"
   ],
   "metadata": {
    "collapsed": false
   }
  },
  {
   "cell_type": "code",
   "execution_count": 9,
   "outputs": [
    {
     "name": "stdout",
     "output_type": "stream",
     "text": [
      "RMSE: 1.729 \n",
      "MAE: 1.311 \n",
      "MAPE: 0.158\n"
     ]
    }
   ],
   "source": [
    "model = s_n.KNeighborsRegressor()\n",
    "model.fit(X_train, y_train)\n",
    "\n",
    "predictions = model.predict(X_test)\n",
    "\n",
    "print_metrics(y_test, predictions)"
   ],
   "metadata": {
    "collapsed": false,
    "ExecuteTime": {
     "end_time": "2023-06-26T07:29:40.007870500Z",
     "start_time": "2023-06-26T07:29:39.997092700Z"
    }
   }
  },
  {
   "cell_type": "markdown",
   "source": [
    "Hyperparameter Tuning"
   ],
   "metadata": {
    "collapsed": false
   }
  },
  {
   "cell_type": "code",
   "execution_count": 20,
   "outputs": [],
   "source": [
    "def hyperopt_objective_knn(space: dict):\n",
    "    custom_splitter = CousinCrossValidation.split(X=X_train, y=y_train, groups=groups_train)\n",
    "    model = s_n.KNeighborsRegressor()\n",
    "\n",
    "    for k, v in space.items():\n",
    "        space[k] = [v]\n",
    "\n",
    "    search = GridSearchCV(estimator=model,\n",
    "                          param_grid=space,\n",
    "                          scoring=\"neg_root_mean_squared_error\",\n",
    "                          cv=custom_splitter,\n",
    "                          verbose=0,\n",
    "                          return_train_score=False)\n",
    "\n",
    "    print(space)\n",
    "\n",
    "    search.fit(X=X_train, y=y_train, groups=groups_train)\n",
    "    return {'loss': -1.0 * search.best_score_, 'status': STATUS_OK}"
   ],
   "metadata": {
    "collapsed": false,
    "ExecuteTime": {
     "end_time": "2023-06-26T07:44:16.693788400Z",
     "start_time": "2023-06-26T07:44:16.691593400Z"
    }
   }
  },
  {
   "cell_type": "code",
   "execution_count": 25,
   "outputs": [
    {
     "name": "stdout",
     "output_type": "stream",
     "text": [
      "{'n_neighbors': [3], 'p': [1], 'weights': ['distance']}\n",
      "{'n_neighbors': [7], 'p': [2], 'weights': ['distance']}\n",
      "{'n_neighbors': [9], 'p': [3], 'weights': ['distance']}                          \n",
      "{'n_neighbors': [7], 'p': [1], 'weights': ['distance']}                          \n",
      "{'n_neighbors': [8], 'p': [3], 'weights': ['uniform']}                           \n",
      "{'n_neighbors': [5], 'p': [1], 'weights': ['distance']}                          \n",
      "{'n_neighbors': [4], 'p': [2], 'weights': ['distance']}                          \n",
      "{'n_neighbors': [3], 'p': [1], 'weights': ['uniform']}                           \n",
      "{'n_neighbors': [3], 'p': [3], 'weights': ['uniform']}                           \n",
      "{'n_neighbors': [3], 'p': [3], 'weights': ['distance']}                          \n",
      "{'n_neighbors': [10], 'p': [1], 'weights': ['uniform']}                           \n",
      "{'n_neighbors': [10], 'p': [2], 'weights': ['distance']}                          \n",
      "{'n_neighbors': [3], 'p': [1], 'weights': ['distance']}                           \n",
      "{'n_neighbors': [9], 'p': [1], 'weights': ['distance']}                           \n",
      "{'n_neighbors': [10], 'p': [3], 'weights': ['uniform']}                           \n",
      "{'n_neighbors': [5], 'p': [2], 'weights': ['distance']}                           \n",
      "{'n_neighbors': [6], 'p': [2], 'weights': ['uniform']}                            \n",
      "{'n_neighbors': [9], 'p': [3], 'weights': ['uniform']}                            \n",
      "{'n_neighbors': [5], 'p': [2], 'weights': ['uniform']}                            \n",
      "{'n_neighbors': [6], 'p': [3], 'weights': ['distance']}                           \n",
      "{'n_neighbors': [3], 'p': [1], 'weights': ['distance']}                           \n",
      "{'n_neighbors': [2], 'p': [1], 'weights': ['distance']}                           \n",
      "{'n_neighbors': [3], 'p': [1], 'weights': ['uniform']}                            \n",
      "{'n_neighbors': [3], 'p': [1], 'weights': ['distance']}                           \n",
      "{'n_neighbors': [4], 'p': [1], 'weights': ['distance']}                           \n",
      "{'n_neighbors': [2], 'p': [1], 'weights': ['uniform']}                            \n",
      "{'n_neighbors': [8], 'p': [1], 'weights': ['distance']}                           \n",
      "{'n_neighbors': [3], 'p': [1], 'weights': ['distance']}                           \n",
      "{'n_neighbors': [7], 'p': [1], 'weights': ['distance']}                           \n",
      "{'n_neighbors': [3], 'p': [1], 'weights': ['distance']}                           \n",
      "{'n_neighbors': [2], 'p': [1], 'weights': ['distance']}                           \n",
      "{'n_neighbors': [7], 'p': [1], 'weights': ['distance']}                           \n",
      "{'n_neighbors': [8], 'p': [1], 'weights': ['distance']}                           \n",
      "{'n_neighbors': [3], 'p': [2], 'weights': ['distance']}                           \n",
      "{'n_neighbors': [4], 'p': [1], 'weights': ['distance']}                           \n",
      "{'n_neighbors': [6], 'p': [1], 'weights': ['distance']}                           \n",
      "{'n_neighbors': [9], 'p': [3], 'weights': ['distance']}                           \n",
      "{'n_neighbors': [3], 'p': [2], 'weights': ['distance']}                           \n",
      "{'n_neighbors': [7], 'p': [2], 'weights': ['distance']}                           \n",
      "{'n_neighbors': [8], 'p': [1], 'weights': ['distance']}                           \n",
      "{'n_neighbors': [3], 'p': [1], 'weights': ['uniform']}                            \n",
      "{'n_neighbors': [5], 'p': [2], 'weights': ['distance']}                           \n",
      "{'n_neighbors': [10], 'p': [2], 'weights': ['distance']}                          \n",
      "{'n_neighbors': [4], 'p': [3], 'weights': ['distance']}                           \n",
      "{'n_neighbors': [3], 'p': [1], 'weights': ['uniform']}                            \n",
      "{'n_neighbors': [3], 'p': [1], 'weights': ['uniform']}                            \n",
      "{'n_neighbors': [9], 'p': [3], 'weights': ['uniform']}                            \n",
      "{'n_neighbors': [10], 'p': [1], 'weights': ['uniform']}                           \n",
      "{'n_neighbors': [6], 'p': [3], 'weights': ['uniform']}                            \n",
      "{'n_neighbors': [5], 'p': [1], 'weights': ['distance']}                           \n",
      "{'n_neighbors': [3], 'p': [1], 'weights': ['distance']}                           \n",
      "{'n_neighbors': [2], 'p': [1], 'weights': ['uniform']}                            \n",
      "{'n_neighbors': [3], 'p': [3], 'weights': ['distance']}                           \n",
      "{'n_neighbors': [7], 'p': [1], 'weights': ['distance']}                           \n",
      "{'n_neighbors': [8], 'p': [1], 'weights': ['distance']}                           \n",
      "{'n_neighbors': [4], 'p': [3], 'weights': ['distance']}                           \n",
      "{'n_neighbors': [9], 'p': [3], 'weights': ['distance']}                           \n",
      "{'n_neighbors': [3], 'p': [2], 'weights': ['distance']}                           \n",
      "{'n_neighbors': [10], 'p': [3], 'weights': ['distance']}                          \n",
      "{'n_neighbors': [6], 'p': [3], 'weights': ['distance']}                           \n",
      "{'n_neighbors': [5], 'p': [2], 'weights': ['distance']}                           \n",
      "{'n_neighbors': [2], 'p': [1], 'weights': ['distance']}                           \n",
      "{'n_neighbors': [3], 'p': [2], 'weights': ['distance']}                           \n",
      "{'n_neighbors': [3], 'p': [2], 'weights': ['distance']}                           \n",
      "{'n_neighbors': [8], 'p': [2], 'weights': ['distance']}                           \n",
      "{'n_neighbors': [3], 'p': [1], 'weights': ['uniform']}                            \n",
      "{'n_neighbors': [3], 'p': [2], 'weights': ['distance']}                           \n",
      "{'n_neighbors': [3], 'p': [2], 'weights': ['distance']}                           \n",
      "{'n_neighbors': [3], 'p': [1], 'weights': ['distance']}                           \n",
      "{'n_neighbors': [3], 'p': [1], 'weights': ['distance']}                           \n",
      "{'n_neighbors': [7], 'p': [1], 'weights': ['distance']}                           \n",
      "{'n_neighbors': [3], 'p': [2], 'weights': ['distance']}                           \n",
      "{'n_neighbors': [4], 'p': [1], 'weights': ['distance']}                           \n",
      "{'n_neighbors': [9], 'p': [2], 'weights': ['distance']}                           \n",
      "{'n_neighbors': [3], 'p': [1], 'weights': ['uniform']}                            \n",
      "{'n_neighbors': [6], 'p': [1], 'weights': ['distance']}                           \n",
      "{'n_neighbors': [10], 'p': [1], 'weights': ['distance']}                          \n",
      "{'n_neighbors': [2], 'p': [2], 'weights': ['distance']}                           \n",
      "{'n_neighbors': [5], 'p': [2], 'weights': ['distance']}                           \n",
      "{'n_neighbors': [3], 'p': [2], 'weights': ['uniform']}                            \n",
      "{'n_neighbors': [7], 'p': [1], 'weights': ['distance']}                           \n",
      "{'n_neighbors': [8], 'p': [1], 'weights': ['distance']}                           \n",
      "{'n_neighbors': [3], 'p': [1], 'weights': ['distance']}                           \n",
      "{'n_neighbors': [4], 'p': [2], 'weights': ['distance']}                           \n",
      "{'n_neighbors': [9], 'p': [2], 'weights': ['distance']}                           \n",
      "{'n_neighbors': [3], 'p': [1], 'weights': ['distance']}                           \n",
      "{'n_neighbors': [6], 'p': [2], 'weights': ['distance']}                           \n",
      "{'n_neighbors': [10], 'p': [1], 'weights': ['uniform']}                           \n",
      "{'n_neighbors': [3], 'p': [3], 'weights': ['uniform']}                            \n",
      "{'n_neighbors': [5], 'p': [2], 'weights': ['distance']}                           \n",
      "{'n_neighbors': [2], 'p': [2], 'weights': ['distance']}                           \n",
      "{'n_neighbors': [3], 'p': [2], 'weights': ['distance']}                           \n",
      "{'n_neighbors': [8], 'p': [2], 'weights': ['distance']}                           \n",
      "{'n_neighbors': [7], 'p': [1], 'weights': ['distance']}                           \n",
      "{'n_neighbors': [3], 'p': [1], 'weights': ['uniform']}                            \n",
      "{'n_neighbors': [9], 'p': [2], 'weights': ['distance']}                           \n",
      "{'n_neighbors': [3], 'p': [3], 'weights': ['uniform']}                            \n",
      "{'n_neighbors': [4], 'p': [2], 'weights': ['distance']}                           \n",
      "{'n_neighbors': [6], 'p': [1], 'weights': ['distance']}                           \n",
      "{'n_neighbors': [10], 'p': [1], 'weights': ['uniform']}                           \n",
      "100%|██████████| 100/100 [00:05<00:00, 16.72trial/s, best loss: 12.199872878502475]\n"
     ]
    },
    {
     "data": {
      "text/plain": "{'n_neighbors': 3, 'p': 1, 'weights': 'distance'}"
     },
     "execution_count": 25,
     "metadata": {},
     "output_type": "execute_result"
    }
   ],
   "source": [
    "space = {\n",
    "        'n_neighbors': hp.choice('n_neighbors', [2, 3, 4, 5, 6, 7, 8, 9, 10]),\n",
    "        'p': hp.choice('p',[1, 2, 3]),\n",
    "        'weights': hp.choice('weights', ['uniform', 'distance'])\n",
    "}\n",
    "\n",
    "trials = Trials()\n",
    "fmin_result = fmin(fn=hyperopt_objective_knn, space=space, algo=tpe.suggest, max_evals=100, trials=trials)\n",
    "opt_params = space_eval(space, fmin_result)\n",
    "opt_params"
   ],
   "metadata": {
    "collapsed": false,
    "ExecuteTime": {
     "end_time": "2023-06-26T08:18:31.270679400Z",
     "start_time": "2023-06-26T08:18:25.284366700Z"
    }
   }
  },
  {
   "cell_type": "code",
   "execution_count": 26,
   "outputs": [
    {
     "name": "stdout",
     "output_type": "stream",
     "text": [
      "RMSE: 1.768 \n",
      "MAE: 1.405 \n",
      "MAPE: 0.174\n"
     ]
    }
   ],
   "source": [
    "model = s_n.KNeighborsRegressor(**opt_params)\n",
    "model.fit(X_train, y_train)\n",
    "\n",
    "predictions = model.predict(X_test)\n",
    "\n",
    "print_metrics(y_test, predictions)"
   ],
   "metadata": {
    "collapsed": false,
    "ExecuteTime": {
     "end_time": "2023-06-26T08:18:33.612491800Z",
     "start_time": "2023-06-26T08:18:33.587123Z"
    }
   }
  },
  {
   "cell_type": "code",
   "execution_count": 11,
   "outputs": [
    {
     "name": "stderr",
     "output_type": "stream",
     "text": [
      "C:\\Users\\Philipp\\AppData\\Local\\Temp\\ipykernel_30536\\4204403440.py:1: SettingWithCopyWarning: \n",
      "A value is trying to be set on a copy of a slice from a DataFrame.\n",
      "Try using .loc[row_indexer,col_indexer] = value instead\n",
      "\n",
      "See the caveats in the documentation: https://pandas.pydata.org/pandas-docs/stable/user_guide/indexing.html#returning-a-view-versus-a-copy\n",
      "  df_test['prediction'] = predictions\n"
     ]
    }
   ],
   "source": [
    "df_test['prediction'] = predictions"
   ],
   "metadata": {
    "collapsed": false,
    "ExecuteTime": {
     "end_time": "2023-06-25T06:46:00.772515300Z",
     "start_time": "2023-06-25T06:46:00.759507800Z"
    }
   }
  },
  {
   "cell_type": "code",
   "execution_count": 12,
   "outputs": [],
   "source": [
    "df_test.to_csv(os.path.join(get_data_dir(), \"rq1_xgboost_tuned_predictions.csv\"))"
   ],
   "metadata": {
    "collapsed": false,
    "ExecuteTime": {
     "end_time": "2023-06-25T06:46:02.284225100Z",
     "start_time": "2023-06-25T06:46:02.274036900Z"
    }
   }
  },
  {
   "cell_type": "code",
   "execution_count": 13,
   "outputs": [],
   "source": [
    "model.save_model(os.path.join(get_data_dir(), \"rq1_xgboost_tuned_model.json\"))"
   ],
   "metadata": {
    "collapsed": false,
    "ExecuteTime": {
     "end_time": "2023-06-25T06:46:02.768196600Z",
     "start_time": "2023-06-25T06:46:02.757852200Z"
    }
   }
  },
  {
   "cell_type": "code",
   "execution_count": null,
   "outputs": [],
   "source": [],
   "metadata": {
    "collapsed": false
   }
  }
 ],
 "metadata": {
  "kernelspec": {
   "display_name": "Python 3",
   "language": "python",
   "name": "python3"
  },
  "language_info": {
   "codemirror_mode": {
    "name": "ipython",
    "version": 2
   },
   "file_extension": ".py",
   "mimetype": "text/x-python",
   "name": "python",
   "nbconvert_exporter": "python",
   "pygments_lexer": "ipython2",
   "version": "2.7.6"
  }
 },
 "nbformat": 4,
 "nbformat_minor": 0
}
