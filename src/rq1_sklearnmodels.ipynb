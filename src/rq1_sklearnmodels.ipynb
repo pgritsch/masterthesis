{
 "cells": [
  {
   "cell_type": "code",
   "execution_count": 1,
   "id": "0256338d-c269-4c4b-b2a6-192eb4cf98d1",
   "metadata": {
    "tags": [],
    "ExecuteTime": {
     "end_time": "2023-06-26T07:15:17.927339200Z",
     "start_time": "2023-06-26T07:15:17.816911700Z"
    }
   },
   "outputs": [],
   "source": [
    "from sklearn import svm, gaussian_process, tree, neighbors\n",
    "\n",
    "from data_preparation import *\n",
    "from util import *\n",
    "\n",
    "np.random.seed(0)"
   ]
  },
  {
   "cell_type": "code",
   "execution_count": 2,
   "outputs": [
    {
     "name": "stdout",
     "output_type": "stream",
     "text": [
      "<class 'pandas.core.frame.DataFrame'>\n",
      "Index: 1638 entries, 1909 to 768\n",
      "Data columns (total 31 columns):\n",
      " #   Column               Non-Null Count  Dtype         \n",
      "---  ------               --------------  -----         \n",
      " 0   storageRegion        1638 non-null   object        \n",
      " 1   storageProvider      1638 non-null   object        \n",
      " 2   functionId           1638 non-null   object        \n",
      " 3   functionName         1638 non-null   object        \n",
      " 4   functionType         1638 non-null   object        \n",
      " 5   RTT                  1638 non-null   float64       \n",
      " 6   loopCounter          1638 non-null   float64       \n",
      " 7   maxLoopCounter       1638 non-null   float64       \n",
      " 8   startTime            1638 non-null   datetime64[ns]\n",
      " 9   endTime              1638 non-null   datetime64[ns]\n",
      " 10  upAll                1638 non-null   float64       \n",
      " 11  downAll              1638 non-null   float64       \n",
      " 12  numberDownloadFiles  1638 non-null   int64         \n",
      " 13  sizeDownloadInMB     1638 non-null   float64       \n",
      " 14  numberUploadFiles    1638 non-null   int64         \n",
      " 15  sizeUploadInMB       1638 non-null   float64       \n",
      " 16  functionProvider     1638 non-null   object        \n",
      " 17  functionRegion       1638 non-null   object        \n",
      " 18  wfType               1638 non-null   object        \n",
      " 19  functionRegionEnc    1638 non-null   int32         \n",
      " 20  storageRegionEnc     1638 non-null   int32         \n",
      " 21  functionProviderEnc  1638 non-null   int32         \n",
      " 22  storageProviderEnc   1638 non-null   int32         \n",
      " 23  functionNameEnc      1638 non-null   int32         \n",
      " 24  functionTypeEnc      1638 non-null   int32         \n",
      " 25  wfTypeEnc            1638 non-null   int32         \n",
      " 26  dayofweek            1638 non-null   int32         \n",
      " 27  timeofday            1638 non-null   int32         \n",
      " 28  ct                   1638 non-null   float64       \n",
      " 29  datatransferTime     1638 non-null   float64       \n",
      " 30  kFoldGroupEnc        1638 non-null   int32         \n",
      "dtypes: datetime64[ns](2), float64(9), int32(10), int64(2), object(8)\n",
      "memory usage: 345.5+ KB\n"
     ]
    }
   ],
   "source": [
    "df = load_preprocessed_dataset(remove_duplicates=True)\n",
    "df.info()"
   ],
   "metadata": {
    "collapsed": false,
    "ExecuteTime": {
     "end_time": "2023-06-26T07:15:17.989780900Z",
     "start_time": "2023-06-26T07:15:17.978765100Z"
    }
   }
  },
  {
   "cell_type": "code",
   "execution_count": 3,
   "outputs": [],
   "source": [
    "def ablation_input_study(input_cols, model):\n",
    "    X_train, y_train, groups_train, X_test, y_test, _, df_test = train_test_split_with_criterion(\n",
    "        lambda x: (x['wfType'] == 'bwa' and x['functionProvider'] == 'AWS'), df, input_cols, \"RTT\", \"kFoldGroupEnc\")\n",
    "\n",
    "    model.fit(X_train, y_train)\n",
    "    predictions = model.predict(X_test)\n",
    "\n",
    "    rmse = np.sqrt(s_m.mean_squared_error(y_test, predictions))\n",
    "    mae = s_m.mean_absolute_error(y_test, predictions)\n",
    "    mape = s_m.mean_absolute_percentage_error(y_test, predictions)\n",
    "    print('%.2f & %.2f & %.2f \\\\\\\\' % (rmse, mae, mape))"
   ],
   "metadata": {
    "collapsed": false,
    "ExecuteTime": {
     "end_time": "2023-06-26T07:15:22.108964600Z",
     "start_time": "2023-06-26T07:15:22.100444800Z"
    }
   }
  },
  {
   "cell_type": "code",
   "execution_count": 4,
   "outputs": [
    {
     "name": "stdout",
     "output_type": "stream",
     "text": [
      "11.88 & 9.18 & 1.99 \\\\\n"
     ]
    }
   ],
   "source": [
    "ablation_input_study(get_function_related_cols(), svm.SVR())"
   ],
   "metadata": {
    "collapsed": false,
    "ExecuteTime": {
     "end_time": "2023-06-26T07:15:22.376708500Z",
     "start_time": "2023-06-26T07:15:22.300569800Z"
    }
   }
  },
  {
   "cell_type": "code",
   "execution_count": 5,
   "outputs": [
    {
     "name": "stdout",
     "output_type": "stream",
     "text": [
      "6.58 & 5.82 & 0.99 \\\\\n"
     ]
    }
   ],
   "source": [
    "ablation_input_study(get_function_related_cols() + get_storage_related_cols(), svm.SVR())"
   ],
   "metadata": {
    "collapsed": false,
    "ExecuteTime": {
     "end_time": "2023-06-26T07:15:22.672589500Z",
     "start_time": "2023-06-26T07:15:22.599415100Z"
    }
   }
  },
  {
   "cell_type": "code",
   "execution_count": 6,
   "outputs": [
    {
     "name": "stdout",
     "output_type": "stream",
     "text": [
      "6.52 & 5.77 & 0.98 \\\\\n"
     ]
    }
   ],
   "source": [
    "ablation_input_study(get_function_related_cols() + get_storage_related_cols() + get_concurrency_related_cols(),\n",
    "                     svm.SVR())"
   ],
   "metadata": {
    "collapsed": false,
    "ExecuteTime": {
     "end_time": "2023-06-26T07:15:22.848695600Z",
     "start_time": "2023-06-26T07:15:22.784933600Z"
    }
   }
  },
  {
   "cell_type": "code",
   "execution_count": 7,
   "outputs": [
    {
     "name": "stdout",
     "output_type": "stream",
     "text": [
      "6.72 & 5.40 & 0.77 \\\\\n"
     ]
    }
   ],
   "source": [
    "ablation_input_study(\n",
    "    get_function_related_cols() + get_storage_related_cols() + get_concurrency_related_cols() + get_time_related_cols(),\n",
    "    svm.SVR())"
   ],
   "metadata": {
    "collapsed": false,
    "ExecuteTime": {
     "end_time": "2023-06-26T07:15:23.014246Z",
     "start_time": "2023-06-26T07:15:22.954259700Z"
    }
   }
  },
  {
   "cell_type": "code",
   "execution_count": 8,
   "outputs": [
    {
     "name": "stdout",
     "output_type": "stream",
     "text": [
      "4.93 & 3.83 & 0.39 \\\\\n"
     ]
    }
   ],
   "source": [
    "ablation_input_study(get_function_related_cols(), neighbors.KNeighborsRegressor())"
   ],
   "metadata": {
    "collapsed": false,
    "ExecuteTime": {
     "end_time": "2023-06-26T07:15:23.125028Z",
     "start_time": "2023-06-26T07:15:23.109481100Z"
    }
   }
  },
  {
   "cell_type": "code",
   "execution_count": 9,
   "outputs": [
    {
     "name": "stdout",
     "output_type": "stream",
     "text": [
      "1.73 & 1.31 & 0.16 \\\\\n"
     ]
    }
   ],
   "source": [
    "ablation_input_study(get_function_related_cols() + get_storage_related_cols(), neighbors.KNeighborsRegressor())"
   ],
   "metadata": {
    "collapsed": false,
    "ExecuteTime": {
     "end_time": "2023-06-26T07:15:23.281611600Z",
     "start_time": "2023-06-26T07:15:23.264711400Z"
    }
   }
  },
  {
   "cell_type": "code",
   "execution_count": 10,
   "outputs": [
    {
     "name": "stdout",
     "output_type": "stream",
     "text": [
      "2.55 & 1.52 & 0.14 \\\\\n"
     ]
    }
   ],
   "source": [
    "ablation_input_study(get_function_related_cols() + get_storage_related_cols() + get_concurrency_related_cols(), neighbors.KNeighborsRegressor())"
   ],
   "metadata": {
    "collapsed": false,
    "ExecuteTime": {
     "end_time": "2023-06-26T07:15:23.431948900Z",
     "start_time": "2023-06-26T07:15:23.415457300Z"
    }
   }
  },
  {
   "cell_type": "code",
   "execution_count": 11,
   "outputs": [
    {
     "name": "stdout",
     "output_type": "stream",
     "text": [
      "8.21 & 6.80 & 0.82 \\\\\n"
     ]
    }
   ],
   "source": [
    "ablation_input_study(get_function_related_cols() + get_storage_related_cols() + get_concurrency_related_cols() + get_time_related_cols(), neighbors.KNeighborsRegressor())"
   ],
   "metadata": {
    "collapsed": false,
    "ExecuteTime": {
     "end_time": "2023-06-26T07:15:23.617504600Z",
     "start_time": "2023-06-26T07:15:23.601797900Z"
    }
   }
  },
  {
   "cell_type": "code",
   "execution_count": 12,
   "outputs": [
    {
     "name": "stdout",
     "output_type": "stream",
     "text": [
      "6.72 & 5.40 & 0.77 \\\\\n"
     ]
    }
   ],
   "source": [
    "ablation_input_study(get_function_related_cols() + get_storage_related_cols() + get_time_related_cols(),\n",
    "                     svm.SVR())"
   ],
   "metadata": {
    "collapsed": false,
    "ExecuteTime": {
     "end_time": "2023-06-26T07:15:23.851572400Z",
     "start_time": "2023-06-26T07:15:23.790629400Z"
    }
   }
  },
  {
   "cell_type": "code",
   "execution_count": 13,
   "outputs": [
    {
     "name": "stdout",
     "output_type": "stream",
     "text": [
      "8.20 & 6.78 & 0.81 \\\\\n"
     ]
    }
   ],
   "source": [
    "ablation_input_study(get_function_related_cols() + get_storage_related_cols() + get_time_related_cols(), neighbors.KNeighborsRegressor())"
   ],
   "metadata": {
    "collapsed": false,
    "ExecuteTime": {
     "end_time": "2023-06-26T07:15:24.000018200Z",
     "start_time": "2023-06-26T07:15:23.983257400Z"
    }
   }
  },
  {
   "cell_type": "code",
   "execution_count": null,
   "outputs": [],
   "source": [],
   "metadata": {
    "collapsed": false
   }
  }
 ],
 "metadata": {
  "kernelspec": {
   "display_name": "Python 3 (ipykernel)",
   "language": "python",
   "name": "python3"
  },
  "language_info": {
   "codemirror_mode": {
    "name": "ipython",
    "version": 3
   },
   "file_extension": ".py",
   "mimetype": "text/x-python",
   "name": "python",
   "nbconvert_exporter": "python",
   "pygments_lexer": "ipython3",
   "version": "3.11.3"
  }
 },
 "nbformat": 4,
 "nbformat_minor": 5
}
