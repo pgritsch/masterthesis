{
 "cells": [
  {
   "cell_type": "code",
   "execution_count": 1,
   "metadata": {
    "collapsed": true,
    "ExecuteTime": {
     "end_time": "2023-06-26T07:21:03.184524500Z",
     "start_time": "2023-06-26T07:21:02.816559500Z"
    }
   },
   "outputs": [],
   "source": [
    "from util import *\n",
    "from data_preparation import *\n",
    "from hyperopt import hp\n",
    "from hyperopt.pyll import scope\n",
    "from xgboost_util import *"
   ]
  },
  {
   "cell_type": "code",
   "execution_count": 2,
   "outputs": [
    {
     "name": "stdout",
     "output_type": "stream",
     "text": [
      "<class 'pandas.core.frame.DataFrame'>\n",
      "Index: 1638 entries, 1909 to 768\n",
      "Data columns (total 31 columns):\n",
      " #   Column               Non-Null Count  Dtype         \n",
      "---  ------               --------------  -----         \n",
      " 0   storageRegion        1638 non-null   object        \n",
      " 1   storageProvider      1638 non-null   object        \n",
      " 2   functionId           1638 non-null   object        \n",
      " 3   functionName         1638 non-null   object        \n",
      " 4   functionType         1638 non-null   object        \n",
      " 5   RTT                  1638 non-null   float64       \n",
      " 6   loopCounter          1638 non-null   float64       \n",
      " 7   maxLoopCounter       1638 non-null   float64       \n",
      " 8   startTime            1638 non-null   datetime64[ns]\n",
      " 9   endTime              1638 non-null   datetime64[ns]\n",
      " 10  upAll                1638 non-null   float64       \n",
      " 11  downAll              1638 non-null   float64       \n",
      " 12  numberDownloadFiles  1638 non-null   int64         \n",
      " 13  sizeDownloadInMB     1638 non-null   float64       \n",
      " 14  numberUploadFiles    1638 non-null   int64         \n",
      " 15  sizeUploadInMB       1638 non-null   float64       \n",
      " 16  functionProvider     1638 non-null   object        \n",
      " 17  functionRegion       1638 non-null   object        \n",
      " 18  wfType               1638 non-null   object        \n",
      " 19  functionRegionEnc    1638 non-null   int32         \n",
      " 20  storageRegionEnc     1638 non-null   int32         \n",
      " 21  functionProviderEnc  1638 non-null   int32         \n",
      " 22  storageProviderEnc   1638 non-null   int32         \n",
      " 23  functionNameEnc      1638 non-null   int32         \n",
      " 24  functionTypeEnc      1638 non-null   int32         \n",
      " 25  wfTypeEnc            1638 non-null   int32         \n",
      " 26  dayofweek            1638 non-null   int32         \n",
      " 27  timeofday            1638 non-null   int32         \n",
      " 28  ct                   1638 non-null   float64       \n",
      " 29  datatransferTime     1638 non-null   float64       \n",
      " 30  kFoldGroupEnc        1638 non-null   int32         \n",
      "dtypes: datetime64[ns](2), float64(9), int32(10), int64(2), object(8)\n",
      "memory usage: 345.5+ KB\n"
     ]
    }
   ],
   "source": [
    "df = load_preprocessed_dataset(remove_duplicates=True)\n",
    "df.info()"
   ],
   "metadata": {
    "collapsed": false,
    "ExecuteTime": {
     "end_time": "2023-06-26T07:21:03.197775900Z",
     "start_time": "2023-06-26T07:21:03.184524500Z"
    }
   }
  },
  {
   "cell_type": "code",
   "execution_count": 21,
   "outputs": [],
   "source": [
    "input_cols = get_function_related_cols() + get_storage_related_cols()\n",
    "output_col = 'RTT'\n",
    "group_col = 'kFoldGroupEnc'"
   ],
   "metadata": {
    "collapsed": false,
    "ExecuteTime": {
     "end_time": "2023-06-26T07:25:00.940810700Z",
     "start_time": "2023-06-26T07:25:00.933307300Z"
    }
   }
  },
  {
   "cell_type": "code",
   "execution_count": 22,
   "outputs": [],
   "source": [
    "X_train, y_train, groups_train, X_test, y_test, _, df_test = train_test_split_with_criterion(lambda x: (x['wfType'] == 'bwa' and x['functionProvider'] == 'AWS'), df, input_cols, output_col, group_col)"
   ],
   "metadata": {
    "collapsed": false,
    "ExecuteTime": {
     "end_time": "2023-06-26T07:25:01.148774400Z",
     "start_time": "2023-06-26T07:25:01.129209500Z"
    }
   }
  },
  {
   "cell_type": "markdown",
   "source": [
    "Plain Model"
   ],
   "metadata": {
    "collapsed": false
   }
  },
  {
   "cell_type": "code",
   "execution_count": 23,
   "outputs": [
    {
     "name": "stdout",
     "output_type": "stream",
     "text": [
      "RMSE: 1.890 \n",
      "MAE: 1.400 \n",
      "MAPE: 0.124\n"
     ]
    }
   ],
   "source": [
    "model = XGBRegressor()\n",
    "model.fit(X_train, y_train)\n",
    "\n",
    "predictions = model.predict(X_test)\n",
    "\n",
    "print_metrics(y_test, predictions)"
   ],
   "metadata": {
    "collapsed": false,
    "ExecuteTime": {
     "end_time": "2023-06-26T07:25:02.135534700Z",
     "start_time": "2023-06-26T07:25:02.101749Z"
    }
   }
  },
  {
   "cell_type": "markdown",
   "source": [
    "Hyperparameter Tuning"
   ],
   "metadata": {
    "collapsed": false
   }
  },
  {
   "cell_type": "code",
   "execution_count": 11,
   "outputs": [
    {
     "name": "stdout",
     "output_type": "stream",
     "text": [
      "{'booster': ['dart'], 'eta': [0.4191075130890015], 'gamma': [6.174348587104987], 'max_depth': [12], 'one_drop': [1], 'rate_drop': [0.06887474126065463], 'sample_type': ['weighted'], 'skip_drop': [0.22974109566472978]}\n",
      "{'booster': ['gbtree'], 'colsample_bytree': [0.8865997020108393], 'eta': [0.3032149225644467], 'gamma': [7.586262467552712], 'max_depth': [10], 'min_child_weight': [2], 'reg_alpha': [0.25515627334785584], 'reg_lambda': [0.8785741765024575]}\n",
      "{'booster': ['gbtree'], 'colsample_bytree': [0.6311288953770593], 'eta': [0.41994698427454474], 'gamma': [2.69459186133526], 'max_depth': [5], 'min_child_weight': [8], 'reg_alpha': [0.30292207346415534], 'reg_lambda': [1.777599804005693]}\n",
      "{'booster': ['dart'], 'eta': [0.389997314901093], 'gamma': [6.029405690821896], 'max_depth': [6], 'one_drop': [1], 'rate_drop': [0.5567183556403015], 'sample_type': ['weighted'], 'skip_drop': [0.45963478545539016]}\n",
      "{'booster': ['gbtree'], 'colsample_bytree': [0.760831787208631], 'eta': [0.27818077166942773], 'gamma': [8.861711994293632], 'max_depth': [14], 'min_child_weight': [3], 'reg_alpha': [3.0551800287360154], 'reg_lambda': [2.207436637760521]}\n",
      "{'booster': ['dart'], 'eta': [0.2391947176597518], 'gamma': [5.684172520571618], 'max_depth': [15], 'one_drop': [1], 'rate_drop': [0.3427515612534454], 'sample_type': ['uniform'], 'skip_drop': [0.25403055429272636]}\n",
      "{'booster': ['dart'], 'eta': [0.33428614178809424], 'gamma': [8.873305977770551], 'max_depth': [14], 'one_drop': [1], 'rate_drop': [0.03699558793737623], 'sample_type': ['uniform'], 'skip_drop': [0.9886569128242618]}\n",
      "{'booster': ['dart'], 'eta': [0.21745988958748214], 'gamma': [8.56416279021592], 'max_depth': [14], 'one_drop': [1], 'rate_drop': [0.5390550140698682], 'sample_type': ['uniform'], 'skip_drop': [0.15248969261275114]}\n",
      "{'booster': ['gbtree'], 'colsample_bytree': [0.7684898585691325], 'eta': [0.3337262845380018], 'gamma': [4.767320750177939], 'max_depth': [7], 'min_child_weight': [4], 'reg_alpha': [1.8475384632581306], 'reg_lambda': [1.0543524178005002]}\n",
      "{'booster': ['dart'], 'eta': [0.20041254112497817], 'gamma': [4.326862356805164], 'max_depth': [18], 'one_drop': [0], 'rate_drop': [0.841186731634993], 'sample_type': ['weighted'], 'skip_drop': [0.48768008957161335]}\n",
      "{'booster': ['dart'], 'eta': [0.3040908397988404], 'gamma': [3.1577059985841], 'max_depth': [8], 'one_drop': [1], 'rate_drop': [0.5148214268427284], 'sample_type': ['uniform'], 'skip_drop': [0.2765359753573161]}\n",
      "{'booster': ['dart'], 'eta': [0.48668461015499903], 'gamma': [1.6002479468921997], 'max_depth': [4], 'one_drop': [1], 'rate_drop': [0.9582626448832191], 'sample_type': ['uniform'], 'skip_drop': [0.5578908557736658]}\n",
      "{'booster': ['dart'], 'eta': [0.41386889741943933], 'gamma': [1.788535364576167], 'max_depth': [16], 'one_drop': [0], 'rate_drop': [0.6737328758422737], 'sample_type': ['weighted'], 'skip_drop': [0.5756077205455683]}\n",
      "{'booster': ['dart'], 'eta': [0.3759970463912436], 'gamma': [8.917010744629685], 'max_depth': [17], 'one_drop': [0], 'rate_drop': [0.4889133505169543], 'sample_type': ['uniform'], 'skip_drop': [0.2026118789142224]}\n",
      "{'booster': ['gbtree'], 'colsample_bytree': [0.9469550974837954], 'eta': [0.45128120310011616], 'gamma': [7.006377321324591], 'max_depth': [18], 'min_child_weight': [2], 'reg_alpha': [3.630678211608726], 'reg_lambda': [3.7721142556661786]}\n",
      "{'booster': ['gbtree'], 'colsample_bytree': [0.6786093500023851], 'eta': [0.2910539360073927], 'gamma': [3.7259758570534185], 'max_depth': [15], 'min_child_weight': [1], 'reg_alpha': [2.665464439429732], 'reg_lambda': [0.4867617885771094]}\n",
      "{'booster': ['dart'], 'eta': [0.38605342767394857], 'gamma': [1.9877936765773683], 'max_depth': [8], 'one_drop': [0], 'rate_drop': [0.600650801276456], 'sample_type': ['weighted'], 'skip_drop': [0.04105456424085496]}\n",
      "{'booster': ['gbtree'], 'colsample_bytree': [0.9436268949382206], 'eta': [0.21068213100529296], 'gamma': [4.6859113794107765], 'max_depth': [11], 'min_child_weight': [5], 'reg_alpha': [0.833481435817002], 'reg_lambda': [1.3474517172700406]}\n",
      "{'booster': ['dart'], 'eta': [0.323770973558197], 'gamma': [4.642041712413417], 'max_depth': [6], 'one_drop': [0], 'rate_drop': [0.6576503123190014], 'sample_type': ['weighted'], 'skip_drop': [0.1390989516090082]}\n",
      "{'booster': ['dart'], 'eta': [0.44100836854267866], 'gamma': [1.7902949141211941], 'max_depth': [13], 'one_drop': [1], 'rate_drop': [0.7523009927086816], 'sample_type': ['uniform'], 'skip_drop': [0.7007856468715311]}\n",
      "{'booster': ['dart'], 'eta': [0.2747881148550259], 'gamma': [7.6086848016638156], 'max_depth': [9], 'one_drop': [0], 'rate_drop': [0.3112025861703098], 'sample_type': ['weighted'], 'skip_drop': [0.00560371263746523]}\n",
      "{'booster': ['dart'], 'eta': [0.2647630205030015], 'gamma': [7.235897199612647], 'max_depth': [10], 'one_drop': [0], 'rate_drop': [0.25775191219317284], 'sample_type': ['weighted'], 'skip_drop': [0.01073830148976285]}\n",
      "{'booster': ['dart'], 'eta': [0.28901469694375376], 'gamma': [7.36279588800761], 'max_depth': [10], 'one_drop': [0], 'rate_drop': [0.27502269470467516], 'sample_type': ['weighted'], 'skip_drop': [0.010464557174403463]}\n",
      "{'booster': ['dart'], 'eta': [0.36290098843888063], 'gamma': [3.0860038283797033], 'max_depth': [8], 'one_drop': [0], 'rate_drop': [0.3972418400729911], 'sample_type': ['weighted'], 'skip_drop': [0.0007319908375142212]}\n",
      "{'booster': ['dart'], 'eta': [0.470972892527182], 'gamma': [3.162427265195091], 'max_depth': [5], 'one_drop': [0], 'rate_drop': [0.37753433026826144], 'sample_type': ['weighted'], 'skip_drop': [0.36249397227763497]}\n",
      "{'booster': ['dart'], 'eta': [0.36522476317653346], 'gamma': [3.0498510409748603], 'max_depth': [8], 'one_drop': [0], 'rate_drop': [0.1776927953163249], 'sample_type': ['weighted'], 'skip_drop': [0.8344467337927877]}\n",
      "{'booster': ['dart'], 'eta': [0.3436824943954545], 'gamma': [1.0589706729918462], 'max_depth': [3], 'one_drop': [0], 'rate_drop': [0.4228805663076758], 'sample_type': ['weighted'], 'skip_drop': [0.08831131399084574]}\n",
      "{'booster': ['dart'], 'eta': [0.4566620298512952], 'gamma': [3.771560580037246], 'max_depth': [7], 'one_drop': [0], 'rate_drop': [0.6276588873257247], 'sample_type': ['weighted'], 'skip_drop': [0.3663207937446894]}\n",
      "{'booster': ['dart'], 'eta': [0.4092063858026339], 'gamma': [2.309013304871486], 'max_depth': [11], 'one_drop': [0], 'rate_drop': [0.7934916912747372], 'sample_type': ['weighted'], 'skip_drop': [0.07326804987014887]}\n",
      "{'booster': ['dart'], 'eta': [0.36782722095424863], 'gamma': [2.645670141649145], 'max_depth': [8], 'one_drop': [0], 'rate_drop': [0.15422287706500798], 'sample_type': ['weighted'], 'skip_drop': [0.355529358069482]}\n",
      "{'booster': ['dart'], 'eta': [0.3193364313958518], 'gamma': [3.883610762372675], 'max_depth': [3], 'one_drop': [0], 'rate_drop': [0.9285114111427959], 'sample_type': ['weighted'], 'skip_drop': [0.9809281804914964]}\n",
      "{'booster': ['gbtree'], 'colsample_bytree': [0.8520923816415309], 'eta': [0.20380944123309366], 'gamma': [1.534545674789304], 'max_depth': [4], 'min_child_weight': [9], 'reg_alpha': [1.3985764827313134], 'reg_lambda': [3.9712662083929366]}\n",
      "{'booster': ['dart'], 'eta': [0.3887107195417863], 'gamma': [1.07449139282635], 'max_depth': [6], 'one_drop': [0], 'rate_drop': [0.44989109130597915], 'sample_type': ['weighted'], 'skip_drop': [0.07661881674046758]}\n",
      "{'booster': ['gbtree'], 'colsample_bytree': [0.9964875692458732], 'eta': [0.40153500932929265], 'gamma': [1.0105983881594884], 'max_depth': [17], 'min_child_weight': [7], 'reg_alpha': [3.7830376054031634], 'reg_lambda': [2.9107729069566037]}\n",
      "{'booster': ['dart'], 'eta': [0.4416354398482067], 'gamma': [5.326283075516141], 'max_depth': [11], 'one_drop': [0], 'rate_drop': [0.600364344610591], 'sample_type': ['weighted'], 'skip_drop': [0.7886943763200891]}\n",
      "{'booster': ['dart'], 'eta': [0.35501981034024815], 'gamma': [3.8106384198131535], 'max_depth': [5], 'one_drop': [0], 'rate_drop': [0.7265244829922872], 'sample_type': ['weighted'], 'skip_drop': [0.3108122548146697]}\n",
      "{'booster': ['dart'], 'eta': [0.39511349371688337], 'gamma': [2.395742336997623], 'max_depth': [9], 'one_drop': [0], 'rate_drop': [0.8731391673744757], 'sample_type': ['weighted'], 'skip_drop': [0.1649174400075629]}\n",
      "{'booster': ['gbtree'], 'colsample_bytree': [0.6030760034597165], 'eta': [0.493624607600327], 'gamma': [6.518968325035877], 'max_depth': [9], 'min_child_weight': [10], 'reg_alpha': [2.6664710516507855], 'reg_lambda': [0.02858653243012199]}\n",
      "{'booster': ['dart'], 'eta': [0.4252801860231604], 'gamma': [1.2689236989626047], 'max_depth': [12], 'one_drop': [0], 'rate_drop': [0.4135517774216467], 'sample_type': ['weighted'], 'skip_drop': [0.0006311363293447708]}\n",
      "{'booster': ['dart'], 'eta': [0.31133291169726085], 'gamma': [4.841005889263998], 'max_depth': [7], 'one_drop': [0], 'rate_drop': [0.11922591782967062], 'sample_type': ['weighted'], 'skip_drop': [0.21527250923693708]}\n",
      "{'booster': ['gbtree'], 'colsample_bytree': [0.7119681907938694], 'eta': [0.4985180268478322], 'gamma': [8.862459409610846], 'max_depth': [13], 'min_child_weight': [6], 'reg_alpha': [1.221843111519067], 'reg_lambda': [3.0694929387019396]}\n",
      "{'booster': ['dart'], 'eta': [0.3470105174688283], 'gamma': [6.733039115295675], 'max_depth': [12], 'one_drop': [0], 'rate_drop': [0.2230429002257075], 'sample_type': ['weighted'], 'skip_drop': [0.43060207109911025]}\n",
      "{'booster': ['dart'], 'eta': [0.3919971326932182], 'gamma': [2.1546607374702806], 'max_depth': [9], 'one_drop': [1], 'rate_drop': [0.5747846148242404], 'sample_type': ['weighted'], 'skip_drop': [0.6442694385682851]}\n",
      "{'booster': ['dart'], 'eta': [0.2563029721242659], 'gamma': [6.071275309815066], 'max_depth': [7], 'one_drop': [0], 'rate_drop': [0.34934333203867063], 'sample_type': ['uniform'], 'skip_drop': [0.06202951108250713]}\n",
      "{'booster': ['gbtree'], 'colsample_bytree': [0.8256007453471748], 'eta': [0.2486564010354053], 'gamma': [2.3446014663035486], 'max_depth': [7], 'min_child_weight': [0], 'reg_alpha': [1.962376362110258], 'reg_lambda': [0.03570612363847281]}\n",
      "{'booster': ['dart'], 'eta': [0.24649935195310443], 'gamma': [6.041434928277811], 'max_depth': [4], 'one_drop': [1], 'rate_drop': [0.016134645217194543], 'sample_type': ['uniform'], 'skip_drop': [0.1096356371922505]}\n",
      "{'booster': ['dart'], 'eta': [0.20034823976111094], 'gamma': [6.608064018461708], 'max_depth': [7], 'one_drop': [0], 'rate_drop': [0.335451471261682], 'sample_type': ['uniform'], 'skip_drop': [0.41988038515156556]}\n",
      "{'booster': ['gbtree'], 'colsample_bytree': [0.9910038432517008], 'eta': [0.3835458089298903], 'gamma': [5.994752231003485], 'max_depth': [3], 'min_child_weight': [10], 'reg_alpha': [3.2428489156378157], 'reg_lambda': [2.5473172064546827]}\n",
      "{'booster': ['dart'], 'eta': [0.23295837798289323], 'gamma': [8.11755794389727], 'max_depth': [5], 'one_drop': [1], 'rate_drop': [0.4822945929145823], 'sample_type': ['uniform'], 'skip_drop': [0.2615878888031103]}\n",
      "{'booster': ['dart'], 'eta': [0.2960959091180267], 'gamma': [5.402373724221852], 'max_depth': [13], 'one_drop': [0], 'rate_drop': [0.0984942823799661], 'sample_type': ['uniform'], 'skip_drop': [0.5307478970835804]}\n",
      "{'booster': ['dart'], 'eta': [0.24999643090379373], 'gamma': [6.4236773950441], 'max_depth': [10], 'one_drop': [1], 'rate_drop': [0.5611228758052905], 'sample_type': ['uniform'], 'skip_drop': [0.2192724326829069]}\n",
      "{'booster': ['gbtree'], 'colsample_bytree': [0.6806567633076466], 'eta': [0.3519151597927646], 'gamma': [3.432117833892363], 'max_depth': [16], 'min_child_weight': [0], 'reg_alpha': [0.0661712108521384], 'reg_lambda': [3.431705171406763]}\n",
      "{'booster': ['dart'], 'eta': [0.33170900759561484], 'gamma': [5.6667684556677065], 'max_depth': [4], 'one_drop': [0], 'rate_drop': [0.7146571935443182], 'sample_type': ['uniform'], 'skip_drop': [0.05746037838327983]}\n",
      "{'booster': ['dart'], 'eta': [0.33190065334948726], 'gamma': [4.299268156704525], 'max_depth': [4], 'one_drop': [1], 'rate_drop': [0.8531003021531558], 'sample_type': ['uniform'], 'skip_drop': [0.9328290275482788]}\n",
      "{'booster': ['dart'], 'eta': [0.2829158955304588], 'gamma': [5.092876581275588], 'max_depth': [6], 'one_drop': [0], 'rate_drop': [0.6989425014805233], 'sample_type': ['uniform'], 'skip_drop': [0.3067940344296456]}\n",
      "{'booster': ['gbtree'], 'colsample_bytree': [0.8879809639659667], 'eta': [0.45035489770584686], 'gamma': [7.950597275787729], 'max_depth': [12], 'min_child_weight': [6], 'reg_alpha': [0.7565363206921216], 'reg_lambda': [1.7441168302117305]}\n",
      "{'booster': ['dart'], 'eta': [0.49297934742513083], 'gamma': [8.49197235249183], 'max_depth': [4], 'one_drop': [0], 'rate_drop': [0.7945022408322676], 'sample_type': ['uniform'], 'skip_drop': [0.1665215978922714]}\n",
      "{'booster': ['dart'], 'eta': [0.3769792474840359], 'gamma': [4.6331960503392144], 'max_depth': [3], 'one_drop': [1], 'rate_drop': [0.9412909737122946], 'sample_type': ['uniform'], 'skip_drop': [0.6115951362499439]}\n",
      "{'booster': ['dart'], 'eta': [0.22459325397878835], 'gamma': [5.667268073268897], 'max_depth': [14], 'one_drop': [0], 'rate_drop': [0.9951601252797719], 'sample_type': ['uniform'], 'skip_drop': [0.4959678885008213]}\n",
      "{'booster': ['dart'], 'eta': [0.4091896373348073], 'gamma': [4.211809405503608], 'max_depth': [16], 'one_drop': [0], 'rate_drop': [0.8946081365874217], 'sample_type': ['uniform'], 'skip_drop': [0.13173163290668446]}\n",
      "{'booster': ['gbtree'], 'colsample_bytree': [0.7685473336579919], 'eta': [0.23851842313354757], 'gamma': [5.488809346569705], 'max_depth': [7], 'min_child_weight': [8], 'reg_alpha': [2.583525242437903], 'reg_lambda': [0.6021777075910755]}\n",
      "{'booster': ['dart'], 'eta': [0.3342547491613355], 'gamma': [6.844513809303366], 'max_depth': [5], 'one_drop': [0], 'rate_drop': [0.7651733289529294], 'sample_type': ['uniform'], 'skip_drop': [0.033074082513553676]}\n",
      "{'booster': ['dart'], 'eta': [0.30828880340578435], 'gamma': [7.06515552377139], 'max_depth': [5], 'one_drop': [1], 'rate_drop': [0.7755631104047058], 'sample_type': ['uniform'], 'skip_drop': [0.695634006689802]}\n",
      "{'booster': ['dart'], 'eta': [0.27021429895249677], 'gamma': [7.676973564077181], 'max_depth': [3], 'one_drop': [0], 'rate_drop': [0.824618800570327], 'sample_type': ['uniform'], 'skip_drop': [0.03782821411121542]}\n",
      "{'booster': ['dart'], 'eta': [0.2654664782545034], 'gamma': [7.862942884862694], 'max_depth': [18], 'one_drop': [0], 'rate_drop': [0.6617790726652678], 'sample_type': ['uniform'], 'skip_drop': [0.4476595635329586]}\n",
      "{'booster': ['dart'], 'eta': [0.20898625410292346], 'gamma': [8.451360194866506], 'max_depth': [4], 'one_drop': [0], 'rate_drop': [0.8265704326158021], 'sample_type': ['uniform'], 'skip_drop': [0.04217116468590248]}\n",
      "{'booster': ['dart'], 'eta': [0.33251094222141203], 'gamma': [6.863563711311331], 'max_depth': [3], 'one_drop': [0], 'rate_drop': [0.9980265392662897], 'sample_type': ['uniform'], 'skip_drop': [0.18762018511205353]}\n",
      "{'booster': ['dart'], 'eta': [0.27608188638527315], 'gamma': [7.447611348861808], 'max_depth': [5], 'one_drop': [0], 'rate_drop': [0.7243729952283731], 'sample_type': ['uniform'], 'skip_drop': [0.13311502766946534]}\n",
      "{'booster': ['dart'], 'eta': [0.29436931168604835], 'gamma': [6.371289473173438], 'max_depth': [6], 'one_drop': [0], 'rate_drop': [0.8163974793036589], 'sample_type': ['uniform'], 'skip_drop': [0.036468243999770014]}\n",
      "{'booster': ['dart'], 'eta': [0.29965137006262965], 'gamma': [6.384499775463189], 'max_depth': [4], 'one_drop': [0], 'rate_drop': [0.9121479661961901], 'sample_type': ['uniform'], 'skip_drop': [0.2444574281068529]}\n",
      "{'booster': ['dart'], 'eta': [0.3197703253986281], 'gamma': [5.826151189431834], 'max_depth': [6], 'one_drop': [0], 'rate_drop': [0.8315821688072761], 'sample_type': ['uniform'], 'skip_drop': [0.3069398382773346]}\n",
      "{'booster': ['dart'], 'eta': [0.28993158130847724], 'gamma': [8.889519042824542], 'max_depth': [3], 'one_drop': [0], 'rate_drop': [0.963180601984701], 'sample_type': ['uniform'], 'skip_drop': [0.10771347497540117]}\n",
      "{'booster': ['dart'], 'eta': [0.23338783856298773], 'gamma': [7.7487752704576005], 'max_depth': [6], 'one_drop': [0], 'rate_drop': [0.7059059196903078], 'sample_type': ['uniform'], 'skip_drop': [0.1932001270968953]}\n",
      "{'booster': ['dart'], 'eta': [0.2680542691727177], 'gamma': [8.10503182374869], 'max_depth': [4], 'one_drop': [0], 'rate_drop': [0.6321644677086251], 'sample_type': ['uniform'], 'skip_drop': [0.035204428857032725]}\n",
      "{'booster': ['dart'], 'eta': [0.21299424864596658], 'gamma': [8.062952625271294], 'max_depth': [3], 'one_drop': [0], 'rate_drop': [0.5186010351789057], 'sample_type': ['uniform'], 'skip_drop': [0.0010165230695469915]}\n",
      "{'booster': ['dart'], 'eta': [0.2778846491822634], 'gamma': [8.799827216599947], 'max_depth': [9], 'one_drop': [0], 'rate_drop': [0.6276263036698856], 'sample_type': ['uniform'], 'skip_drop': [0.10903389211909933]}\n",
      "{'booster': ['dart'], 'eta': [0.26836947332020544], 'gamma': [7.138586491325406], 'max_depth': [7], 'one_drop': [0], 'rate_drop': [0.6372865980705078], 'sample_type': ['uniform'], 'skip_drop': [0.4018942701046642]}\n",
      "{'booster': ['gbtree'], 'colsample_bytree': [0.6313768643211549], 'eta': [0.35323820030136305], 'gamma': [3.937654654361773], 'max_depth': [5], 'min_child_weight': [4], 'reg_alpha': [1.4954979025793387], 'reg_lambda': [2.3998117994258044]}\n",
      "{'booster': ['dart'], 'eta': [0.25656741143489087], 'gamma': [8.101115674587819], 'max_depth': [8], 'one_drop': [0], 'rate_drop': [0.8148842754655505], 'sample_type': ['uniform'], 'skip_drop': [0.03613965677100096]}\n",
      "{'booster': ['dart'], 'eta': [0.2420603631089555], 'gamma': [7.497453025882923], 'max_depth': [5], 'one_drop': [0], 'rate_drop': [0.7441619226755836], 'sample_type': ['uniform'], 'skip_drop': [0.15566394646058251]}\n",
      "{'booster': ['dart'], 'eta': [0.2202288535201862], 'gamma': [8.320350905221302], 'max_depth': [3], 'one_drop': [0], 'rate_drop': [0.5840613796870809], 'sample_type': ['uniform'], 'skip_drop': [0.292225915225352]}\n",
      "{'booster': ['gbtree'], 'colsample_bytree': [0.9418192875258262], 'eta': [0.45971293039229366], 'gamma': [1.405311667933197], 'max_depth': [9], 'min_child_weight': [1], 'reg_alpha': [3.970300398827563], 'reg_lambda': [3.464102424541201]}\n",
      "{'booster': ['dart'], 'eta': [0.3132309051501762], 'gamma': [8.67294981759849], 'max_depth': [6], 'one_drop': [1], 'rate_drop': [0.6781281384987047], 'sample_type': ['uniform'], 'skip_drop': [0.270034320195883]}\n",
      "{'booster': ['dart'], 'eta': [0.28757809501018883], 'gamma': [6.284343624213453], 'max_depth': [7], 'one_drop': [0], 'rate_drop': [0.4676482651646552], 'sample_type': ['uniform'], 'skip_drop': [0.34922027966279545]}\n",
      "{'booster': ['dart'], 'eta': [0.3537249271710471], 'gamma': [7.695076191384739], 'max_depth': [8], 'one_drop': [0], 'rate_drop': [0.5217679306510187], 'sample_type': ['uniform'], 'skip_drop': [0.8513037311342466]}\n",
      "{'booster': ['dart'], 'eta': [0.29965349372213784], 'gamma': [7.244459597852031], 'max_depth': [11], 'one_drop': [0], 'rate_drop': [0.8697278373758812], 'sample_type': ['uniform'], 'skip_drop': [0.09218488944085403]}\n",
      "{'booster': ['gbtree'], 'colsample_bytree': [0.7265755441472841], 'eta': [0.24249010983078734], 'gamma': [8.111039486371574], 'max_depth': [13], 'min_child_weight': [9], 'reg_alpha': [0.6650970309615207], 'reg_lambda': [1.4240831697495837]}\n",
      "{'booster': ['dart'], 'eta': [0.2577800973556168], 'gamma': [6.605478458196872], 'max_depth': [10], 'one_drop': [0], 'rate_drop': [0.9736891593629631], 'sample_type': ['uniform'], 'skip_drop': [0.23604681928923615]}\n",
      "{'booster': ['dart'], 'eta': [0.2324626112079317], 'gamma': [6.9637720365219495], 'max_depth': [4], 'one_drop': [1], 'rate_drop': [0.537708739496382], 'sample_type': ['uniform'], 'skip_drop': [0.18768282406696832]}\n",
      "{'booster': ['dart'], 'eta': [0.20604024708148092], 'gamma': [8.251673790129109], 'max_depth': [6], 'one_drop': [0], 'rate_drop': [0.8900843235110698], 'sample_type': ['uniform'], 'skip_drop': [0.02197782107320504]}\n",
      "{'booster': ['gbtree'], 'colsample_bytree': [0.8108576313681043], 'eta': [0.37082543119468375], 'gamma': [2.3874681941515568], 'max_depth': [18], 'min_child_weight': [5], 'reg_alpha': [2.184222256323503], 'reg_lambda': [2.872704921674883]}\n",
      "{'booster': ['dart'], 'eta': [0.2717863950057641], 'gamma': [7.933225752098083], 'max_depth': [5], 'one_drop': [0], 'rate_drop': [0.7980591817518288], 'sample_type': ['uniform'], 'skip_drop': [0.34064331461518416]}\n",
      "{'booster': ['dart'], 'eta': [0.25231264924722746], 'gamma': [7.382167578436871], 'max_depth': [3], 'one_drop': [0], 'rate_drop': [0.6227556020055749], 'sample_type': ['uniform'], 'skip_drop': [0.39471201347582646]}\n",
      "{'booster': ['dart'], 'eta': [0.3405800582022598], 'gamma': [5.805066814441332], 'max_depth': [13], 'one_drop': [1], 'rate_drop': [0.8520116240418186], 'sample_type': ['uniform'], 'skip_drop': [0.07585710719221783]}\n",
      "{'booster': ['dart'], 'eta': [0.324131977500733], 'gamma': [3.518147625152924], 'max_depth': [4], 'one_drop': [0], 'rate_drop': [0.9357090792205918], 'sample_type': ['uniform'], 'skip_drop': [0.12943585156763088]}\n",
      "{'booster': ['gbtree'], 'colsample_bytree': [0.8908158386647866], 'eta': [0.3308678791707602], 'gamma': [5.746053736349081], 'max_depth': [16], 'min_child_weight': [7], 'reg_alpha': [3.4040547594361086], 'reg_lambda': [0.1303639280372093]}\n",
      "{'booster': ['dart'], 'eta': [0.29266822246004726], 'gamma': [6.5928595891670785], 'max_depth': [9], 'one_drop': [0], 'rate_drop': [0.6845720889624622], 'sample_type': ['uniform'], 'skip_drop': [0.005937924503872309]}\n",
      "{'booster': ['dart'], 'eta': [0.35884469325667645], 'gamma': [4.7261018429505555], 'max_depth': [9], 'one_drop': [0], 'rate_drop': [0.7455109591396053], 'sample_type': ['uniform'], 'skip_drop': [0.7268367272409895]}\n",
      "{'booster': ['dart'], 'eta': [0.29257371938785753], 'gamma': [5.04227554167436], 'max_depth': [9], 'one_drop': [1], 'rate_drop': [0.6763589266853363], 'sample_type': ['uniform'], 'skip_drop': [0.0037856225328957993]}\n",
      "{'booster': ['dart'], 'eta': [0.3766946755905478], 'gamma': [5.534557251653976], 'max_depth': [10], 'one_drop': [0], 'rate_drop': [0.7738980795481835], 'sample_type': ['weighted'], 'skip_drop': [0.4757726372066671]}\n",
      "100%|██████████| 100/100 [03:55<00:00,  2.36s/trial, best loss: 11.476858620373799]\n"
     ]
    },
    {
     "data": {
      "text/plain": "{'booster': 'dart',\n 'eta': 0.29436931168604835,\n 'gamma': 6.371289473173438,\n 'max_depth': 6,\n 'one_drop': 0,\n 'rate_drop': 0.8163974793036589,\n 'sample_type': 'uniform',\n 'skip_drop': 0.036468243999770014}"
     },
     "execution_count": 11,
     "metadata": {},
     "output_type": "execute_result"
    }
   ],
   "source": [
    "space = hp.choice('classifier_type', [\n",
    "    {\n",
    "        'booster': 'gbtree',\n",
    "        'max_depth': scope.int(hp.quniform('max_depth', 3, 18, 1)),\n",
    "        'gamma': hp.uniform('gamma', 1, 9),\n",
    "        'eta': hp.uniform('eta', 0.2, 0.5),\n",
    "        'reg_alpha': hp.uniform('reg_alpha', 0, 4),\n",
    "        'reg_lambda': hp.uniform('reg_lambda', 0, 4),\n",
    "        'colsample_bytree': hp.uniform('colsample_bytree', 0.6, 1),\n",
    "        'min_child_weight': scope.int(hp.quniform('min_child_weight', 0, 10, 1)),\n",
    "    },\n",
    "    #{ overfitting hell\n",
    "    #    'booster': 'gblinear',\n",
    "    #    'reg_lambda': hp.uniform('lin_reg_lambda', 0, 4),\n",
    "    #    'reg_alpha': hp.uniform('lin_reg_alpha', 0, 4),\n",
    "    #},\n",
    "    {\n",
    "        'booster': 'dart',\n",
    "        'max_depth': scope.int(hp.quniform('max_depth_', 3, 18, 1)),\n",
    "        'gamma': hp.uniform('gamma_', 1, 9),\n",
    "        'eta': hp.uniform('eta_', 0.2, 0.5),\n",
    "        'sample_type': hp.choice('sample_type', ['uniform', 'weighted']),\n",
    "        'rate_drop': hp.uniform('rate_drop', 0, 1),\n",
    "        'one_drop': hp.choice('one_drop', [0, 1]),\n",
    "        'skip_drop': hp.uniform('skip_drop', 0, 1)\n",
    "    }\n",
    "])\n",
    "opt_params = invoke_hyperopt(space, X_train, y_train, groups_train, num_tries=100)\n",
    "opt_params"
   ],
   "metadata": {
    "collapsed": false,
    "ExecuteTime": {
     "end_time": "2023-06-21T13:03:49.124491200Z",
     "start_time": "2023-06-21T12:59:53.612305100Z"
    }
   }
  },
  {
   "cell_type": "code",
   "execution_count": 10,
   "outputs": [
    {
     "name": "stdout",
     "output_type": "stream",
     "text": [
      "RMSE: 1.435 \n",
      "MAE: 1.066 \n",
      "MAPE: 0.105\n"
     ]
    }
   ],
   "source": [
    "model = XGBRegressor(**get_ideal_params())\n",
    "model.fit(X_train, y_train)\n",
    "\n",
    "predictions = model.predict(X_test)\n",
    "\n",
    "print_metrics(y_test, predictions)"
   ],
   "metadata": {
    "collapsed": false,
    "ExecuteTime": {
     "end_time": "2023-06-25T06:45:59.224651500Z",
     "start_time": "2023-06-25T06:45:59.118418300Z"
    }
   }
  },
  {
   "cell_type": "code",
   "execution_count": 11,
   "outputs": [
    {
     "name": "stderr",
     "output_type": "stream",
     "text": [
      "C:\\Users\\Philipp\\AppData\\Local\\Temp\\ipykernel_30536\\4204403440.py:1: SettingWithCopyWarning: \n",
      "A value is trying to be set on a copy of a slice from a DataFrame.\n",
      "Try using .loc[row_indexer,col_indexer] = value instead\n",
      "\n",
      "See the caveats in the documentation: https://pandas.pydata.org/pandas-docs/stable/user_guide/indexing.html#returning-a-view-versus-a-copy\n",
      "  df_test['prediction'] = predictions\n"
     ]
    }
   ],
   "source": [
    "df_test['prediction'] = predictions"
   ],
   "metadata": {
    "collapsed": false,
    "ExecuteTime": {
     "end_time": "2023-06-25T06:46:00.772515300Z",
     "start_time": "2023-06-25T06:46:00.759507800Z"
    }
   }
  },
  {
   "cell_type": "code",
   "execution_count": 12,
   "outputs": [],
   "source": [
    "df_test.to_csv(os.path.join(get_data_dir(), \"rq1_xgboost_tuned_predictions.csv\"))"
   ],
   "metadata": {
    "collapsed": false,
    "ExecuteTime": {
     "end_time": "2023-06-25T06:46:02.284225100Z",
     "start_time": "2023-06-25T06:46:02.274036900Z"
    }
   }
  },
  {
   "cell_type": "code",
   "execution_count": 13,
   "outputs": [],
   "source": [
    "model.save_model(os.path.join(get_data_dir(), \"rq1_xgboost_tuned_model.json\"))"
   ],
   "metadata": {
    "collapsed": false,
    "ExecuteTime": {
     "end_time": "2023-06-25T06:46:02.768196600Z",
     "start_time": "2023-06-25T06:46:02.757852200Z"
    }
   }
  },
  {
   "cell_type": "code",
   "execution_count": null,
   "outputs": [],
   "source": [],
   "metadata": {
    "collapsed": false
   }
  }
 ],
 "metadata": {
  "kernelspec": {
   "display_name": "Python 3",
   "language": "python",
   "name": "python3"
  },
  "language_info": {
   "codemirror_mode": {
    "name": "ipython",
    "version": 2
   },
   "file_extension": ".py",
   "mimetype": "text/x-python",
   "name": "python",
   "nbconvert_exporter": "python",
   "pygments_lexer": "ipython2",
   "version": "2.7.6"
  }
 },
 "nbformat": 4,
 "nbformat_minor": 0
}
