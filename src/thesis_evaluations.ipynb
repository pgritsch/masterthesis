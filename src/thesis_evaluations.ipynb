{
 "cells": [
  {
   "cell_type": "code",
   "execution_count": 1,
   "metadata": {
    "collapsed": true,
    "ExecuteTime": {
     "end_time": "2023-06-26T16:20:02.958274800Z",
     "start_time": "2023-06-26T16:20:02.871122900Z"
    }
   },
   "outputs": [],
   "source": [
    "from util import *\n",
    "import pandas as pd\n",
    "import os\n",
    "import sklearn.metrics as s_m\n",
    "import numpy as np"
   ]
  },
  {
   "cell_type": "code",
   "execution_count": 19,
   "outputs": [],
   "source": [
    "df = pd.read_csv(os.path.join(get_data_dir(), \"ex2_1_predictions.csv\"))"
   ],
   "metadata": {
    "collapsed": false,
    "ExecuteTime": {
     "end_time": "2023-06-26T16:21:24.918275800Z",
     "start_time": "2023-06-26T16:21:24.910803200Z"
    }
   }
  },
  {
   "cell_type": "code",
   "execution_count": 21,
   "outputs": [],
   "source": [
    "preds = df['predictions'].to_numpy()\n",
    "true = df['RTT'].to_numpy()"
   ],
   "metadata": {
    "collapsed": false,
    "ExecuteTime": {
     "end_time": "2023-06-26T16:21:29.090109600Z",
     "start_time": "2023-06-26T16:21:29.069103300Z"
    }
   }
  },
  {
   "cell_type": "code",
   "execution_count": 22,
   "outputs": [],
   "source": [
    "ae = np.abs(preds - true)\n",
    "se = np.square(true - preds)\n",
    "ape = np.abs(true - preds) / true"
   ],
   "metadata": {
    "collapsed": false,
    "ExecuteTime": {
     "end_time": "2023-06-26T16:21:29.542974200Z",
     "start_time": "2023-06-26T16:21:29.535471200Z"
    }
   }
  },
  {
   "cell_type": "code",
   "execution_count": 23,
   "outputs": [],
   "source": [
    "df['ae'] = ae\n",
    "df['se'] = se\n",
    "df['ape'] = ape"
   ],
   "metadata": {
    "collapsed": false,
    "ExecuteTime": {
     "end_time": "2023-06-26T16:21:29.694495100Z",
     "start_time": "2023-06-26T16:21:29.687088800Z"
    }
   }
  },
  {
   "cell_type": "code",
   "execution_count": 24,
   "outputs": [],
   "source": [
    "def rmse(x: pd.DataFrame) -> float:\n",
    "    return np.sqrt(np.sum(x['se'].to_numpy()) / len(x))\n",
    "\n",
    "def mae(x: pd.DataFrame) -> float:\n",
    "    return np.mean(x['ae'].to_numpy())\n",
    "\n",
    "def mape(x: pd.DataFrame) -> float:\n",
    "    return np.mean(x['ape'].to_numpy())"
   ],
   "metadata": {
    "collapsed": false,
    "ExecuteTime": {
     "end_time": "2023-06-26T16:21:29.847128Z",
     "start_time": "2023-06-26T16:21:29.839329700Z"
    }
   }
  },
  {
   "cell_type": "code",
   "execution_count": 25,
   "outputs": [],
   "source": [
    "rmse_arr = df.groupby(by='functionName').apply(rmse)\n",
    "mae_arr = df.groupby(by='functionName').apply(mae)\n",
    "mape_arr = df.groupby(by='functionName').apply(mape)\n",
    "df_aggregated = pd.concat([rmse_arr, mae_arr, mape_arr], axis=1).rename({0: 'rmse', 1: 'mae', 2: 'mape'}, axis=1)\n",
    "df_aggregated = pd.concat([pd.DataFrame({'rmse': rmse(df), 'mae': mae(df), 'mape': mape(df)}, index=['all']), df_aggregated.loc[:]])"
   ],
   "metadata": {
    "collapsed": false,
    "ExecuteTime": {
     "end_time": "2023-06-26T16:21:29.994925700Z",
     "start_time": "2023-06-26T16:21:29.987855400Z"
    }
   }
  },
  {
   "cell_type": "code",
   "execution_count": 26,
   "outputs": [
    {
     "name": "stdout",
     "output_type": "stream",
     "text": [
      "RMSE\n",
      "{(7.10,all) (6.95,bwaAlnR1) (7.00,bwaAlnR2) (4.30,bwaIndex) (7.22,bwaMerge) (11.96,bwaSampe) (2.49,bwaSort) (1.93,bwaSplit) }\n",
      "\n",
      "MAE\n",
      "{(6.14,all) (6.82,bwaAlnR1) (6.86,bwaAlnR2) (4.16,bwaIndex) (7.12,bwaMerge) (11.82,bwaSampe) (2.27,bwaSort) (1.78,bwaSplit) }\n",
      "\n",
      "MAPE\n",
      "{(0.81,all) (0.68,bwaAlnR1) (0.53,bwaAlnR2) (0.86,bwaIndex) (0.57,bwaMerge) (1.24,bwaSampe) (0.21,bwaSort) (0.92,bwaSplit) }\n",
      "\n",
      "\n",
      "all, bwaAlnR1, bwaAlnR2, bwaIndex, bwaMerge, bwaSampe, bwaSort, bwaSplit, "
     ]
    }
   ],
   "source": [
    "print(\"RMSE\")\n",
    "print(\"{\", end=\"\")\n",
    "for idx, row in df_aggregated.iterrows():\n",
    "    print(\"(%.2f,%s)\" % (row['rmse'], idx),end = \" \")\n",
    "print(\"}\")\n",
    "\n",
    "print(\"\\nMAE\")\n",
    "print(\"{\", end=\"\")\n",
    "for idx, row in df_aggregated.iterrows():\n",
    "    print(\"(%.2f,%s)\" % (row['mae'], idx),end = \" \")\n",
    "print(\"}\")\n",
    "\n",
    "\n",
    "print(\"\\nMAPE\")\n",
    "print(\"{\", end=\"\")\n",
    "for idx, row in df_aggregated.iterrows():\n",
    "    print(\"(%.2f,%s)\" % (row['mape'], idx),end = \" \")\n",
    "print(\"}\")\n",
    "\n",
    "print(\"\\n\")\n",
    "for idx, row in df_aggregated.iterrows():\n",
    "    print(idx, end=\", \")"
   ],
   "metadata": {
    "collapsed": false,
    "ExecuteTime": {
     "end_time": "2023-06-26T16:21:30.134333400Z",
     "start_time": "2023-06-26T16:21:30.126838400Z"
    }
   }
  },
  {
   "cell_type": "code",
   "execution_count": 28,
   "outputs": [
    {
     "data": {
      "text/plain": "     Unnamed: 0   storageRegion storageProvider   \n0          1909  northernEurope             AWS  \\\n1          1959  northernEurope             AWS   \n2          1960  northernEurope             AWS   \n3          1887  northernEurope             AWS   \n4          1886  northernEurope             AWS   \n..          ...             ...             ...   \n435        1702  northernEurope             GCP   \n436        1703  northernEurope             GCP   \n437        1725  northernEurope             GCP   \n438        1726  northernEurope             GCP   \n439        1677  northernEurope             GCP   \n\n                                            functionId functionName   \n0    arn:aws:lambda:eu-central-1:717556240325:funct...     bwaAlnR1  \\\n1    arn:aws:lambda:eu-central-1:717556240325:funct...     bwaAlnR1   \n2    arn:aws:lambda:eu-central-1:717556240325:funct...     bwaAlnR1   \n3    arn:aws:lambda:eu-central-1:717556240325:funct...     bwaAlnR1   \n4    arn:aws:lambda:eu-central-1:717556240325:funct...     bwaAlnR1   \n..                                                 ...          ...   \n435  https://europe-west2-master-thesis-380616.clou...     bwaSplit   \n436  https://europe-west2-master-thesis-380616.clou...     bwaSplit   \n437  https://europe-west2-master-thesis-380616.clou...     bwaSplit   \n438  https://europe-west2-master-thesis-380616.clou...     bwaSplit   \n439  https://europe-west2-master-thesis-380616.clou...     bwaSplit   \n\n     functionType     RTT  loopCounter  maxLoopCounter   \n0    bwaAlnR1Type  10.103          1.0             3.0  \\\n1    bwaAlnR1Type   9.935          0.0             3.0   \n2    bwaAlnR1Type  10.384          3.0             3.0   \n3    bwaAlnR1Type  13.855          2.0             3.0   \n4    bwaAlnR1Type  12.175          3.0             3.0   \n..            ...     ...          ...             ...   \n435  bwaSplitType   1.418          3.0             3.0   \n436  bwaSplitType   1.611          2.0             3.0   \n437  bwaSplitType   1.509          0.0             3.0   \n438  bwaSplitType   1.535          3.0             3.0   \n439  bwaSplitType   1.474          2.0             3.0   \n\n                   startTime  ... wfTypeEnc  dayofweek  timeofday     ct   \n0    2023-04-04 12:13:14.899  ...         0          1      43994  6.717  \\\n1    2023-04-04 12:15:10.662  ...         0          1      44110  6.763   \n2    2023-04-04 12:15:10.280  ...         0          1      44110  6.832   \n3    2023-04-04 12:12:11.739  ...         0          1      43931  8.342   \n4    2023-04-04 12:12:11.517  ...         0          1      43931  8.258   \n..                       ...  ...       ...        ...        ...    ...   \n435  2023-04-04 12:22:53.453  ...         0          1      44573  0.962   \n436  2023-04-04 12:22:53.453  ...         0          1      44573  1.026   \n437  2023-04-04 12:23:48.245  ...         0          1      44628  1.024   \n438  2023-04-04 12:23:48.245  ...         0          1      44628  1.055   \n439  2023-04-04 12:21:54.893  ...         0          1      44514  0.999   \n\n     datatransferTime  kFoldGroupEnc  predictions        ae         se   \n0               3.386              0    17.492010  7.389010  54.597469  \\\n1               3.172              0    17.492010  7.557010  57.108400   \n2               3.552              0    17.492010  7.108010  50.523806   \n3               5.513              0    17.492010  3.637010  13.227842   \n4               3.917              0    17.492010  5.317010  28.270595   \n..                ...            ...          ...       ...        ...   \n435             0.456             27     4.015949  2.597949   6.749340   \n436             0.585             27     4.015949  2.404949   5.783781   \n437             0.485             27     4.015949  2.506949   6.284794   \n438             0.480             27     4.015949  2.480949   6.155109   \n439             0.475             27     4.015949  2.541949   6.461506   \n\n          ape  \n0    0.731368  \n1    0.760645  \n2    0.684516  \n3    0.262505  \n4    0.436715  \n..        ...  \n435  1.832122  \n436  1.492830  \n437  1.661331  \n438  1.616254  \n439  1.724525  \n\n[431 rows x 36 columns]",
      "text/html": "<div>\n<style scoped>\n    .dataframe tbody tr th:only-of-type {\n        vertical-align: middle;\n    }\n\n    .dataframe tbody tr th {\n        vertical-align: top;\n    }\n\n    .dataframe thead th {\n        text-align: right;\n    }\n</style>\n<table border=\"1\" class=\"dataframe\">\n  <thead>\n    <tr style=\"text-align: right;\">\n      <th></th>\n      <th>Unnamed: 0</th>\n      <th>storageRegion</th>\n      <th>storageProvider</th>\n      <th>functionId</th>\n      <th>functionName</th>\n      <th>functionType</th>\n      <th>RTT</th>\n      <th>loopCounter</th>\n      <th>maxLoopCounter</th>\n      <th>startTime</th>\n      <th>...</th>\n      <th>wfTypeEnc</th>\n      <th>dayofweek</th>\n      <th>timeofday</th>\n      <th>ct</th>\n      <th>datatransferTime</th>\n      <th>kFoldGroupEnc</th>\n      <th>predictions</th>\n      <th>ae</th>\n      <th>se</th>\n      <th>ape</th>\n    </tr>\n  </thead>\n  <tbody>\n    <tr>\n      <th>0</th>\n      <td>1909</td>\n      <td>northernEurope</td>\n      <td>AWS</td>\n      <td>arn:aws:lambda:eu-central-1:717556240325:funct...</td>\n      <td>bwaAlnR1</td>\n      <td>bwaAlnR1Type</td>\n      <td>10.103</td>\n      <td>1.0</td>\n      <td>3.0</td>\n      <td>2023-04-04 12:13:14.899</td>\n      <td>...</td>\n      <td>0</td>\n      <td>1</td>\n      <td>43994</td>\n      <td>6.717</td>\n      <td>3.386</td>\n      <td>0</td>\n      <td>17.492010</td>\n      <td>7.389010</td>\n      <td>54.597469</td>\n      <td>0.731368</td>\n    </tr>\n    <tr>\n      <th>1</th>\n      <td>1959</td>\n      <td>northernEurope</td>\n      <td>AWS</td>\n      <td>arn:aws:lambda:eu-central-1:717556240325:funct...</td>\n      <td>bwaAlnR1</td>\n      <td>bwaAlnR1Type</td>\n      <td>9.935</td>\n      <td>0.0</td>\n      <td>3.0</td>\n      <td>2023-04-04 12:15:10.662</td>\n      <td>...</td>\n      <td>0</td>\n      <td>1</td>\n      <td>44110</td>\n      <td>6.763</td>\n      <td>3.172</td>\n      <td>0</td>\n      <td>17.492010</td>\n      <td>7.557010</td>\n      <td>57.108400</td>\n      <td>0.760645</td>\n    </tr>\n    <tr>\n      <th>2</th>\n      <td>1960</td>\n      <td>northernEurope</td>\n      <td>AWS</td>\n      <td>arn:aws:lambda:eu-central-1:717556240325:funct...</td>\n      <td>bwaAlnR1</td>\n      <td>bwaAlnR1Type</td>\n      <td>10.384</td>\n      <td>3.0</td>\n      <td>3.0</td>\n      <td>2023-04-04 12:15:10.280</td>\n      <td>...</td>\n      <td>0</td>\n      <td>1</td>\n      <td>44110</td>\n      <td>6.832</td>\n      <td>3.552</td>\n      <td>0</td>\n      <td>17.492010</td>\n      <td>7.108010</td>\n      <td>50.523806</td>\n      <td>0.684516</td>\n    </tr>\n    <tr>\n      <th>3</th>\n      <td>1887</td>\n      <td>northernEurope</td>\n      <td>AWS</td>\n      <td>arn:aws:lambda:eu-central-1:717556240325:funct...</td>\n      <td>bwaAlnR1</td>\n      <td>bwaAlnR1Type</td>\n      <td>13.855</td>\n      <td>2.0</td>\n      <td>3.0</td>\n      <td>2023-04-04 12:12:11.739</td>\n      <td>...</td>\n      <td>0</td>\n      <td>1</td>\n      <td>43931</td>\n      <td>8.342</td>\n      <td>5.513</td>\n      <td>0</td>\n      <td>17.492010</td>\n      <td>3.637010</td>\n      <td>13.227842</td>\n      <td>0.262505</td>\n    </tr>\n    <tr>\n      <th>4</th>\n      <td>1886</td>\n      <td>northernEurope</td>\n      <td>AWS</td>\n      <td>arn:aws:lambda:eu-central-1:717556240325:funct...</td>\n      <td>bwaAlnR1</td>\n      <td>bwaAlnR1Type</td>\n      <td>12.175</td>\n      <td>3.0</td>\n      <td>3.0</td>\n      <td>2023-04-04 12:12:11.517</td>\n      <td>...</td>\n      <td>0</td>\n      <td>1</td>\n      <td>43931</td>\n      <td>8.258</td>\n      <td>3.917</td>\n      <td>0</td>\n      <td>17.492010</td>\n      <td>5.317010</td>\n      <td>28.270595</td>\n      <td>0.436715</td>\n    </tr>\n    <tr>\n      <th>...</th>\n      <td>...</td>\n      <td>...</td>\n      <td>...</td>\n      <td>...</td>\n      <td>...</td>\n      <td>...</td>\n      <td>...</td>\n      <td>...</td>\n      <td>...</td>\n      <td>...</td>\n      <td>...</td>\n      <td>...</td>\n      <td>...</td>\n      <td>...</td>\n      <td>...</td>\n      <td>...</td>\n      <td>...</td>\n      <td>...</td>\n      <td>...</td>\n      <td>...</td>\n      <td>...</td>\n    </tr>\n    <tr>\n      <th>435</th>\n      <td>1702</td>\n      <td>northernEurope</td>\n      <td>GCP</td>\n      <td>https://europe-west2-master-thesis-380616.clou...</td>\n      <td>bwaSplit</td>\n      <td>bwaSplitType</td>\n      <td>1.418</td>\n      <td>3.0</td>\n      <td>3.0</td>\n      <td>2023-04-04 12:22:53.453</td>\n      <td>...</td>\n      <td>0</td>\n      <td>1</td>\n      <td>44573</td>\n      <td>0.962</td>\n      <td>0.456</td>\n      <td>27</td>\n      <td>4.015949</td>\n      <td>2.597949</td>\n      <td>6.749340</td>\n      <td>1.832122</td>\n    </tr>\n    <tr>\n      <th>436</th>\n      <td>1703</td>\n      <td>northernEurope</td>\n      <td>GCP</td>\n      <td>https://europe-west2-master-thesis-380616.clou...</td>\n      <td>bwaSplit</td>\n      <td>bwaSplitType</td>\n      <td>1.611</td>\n      <td>2.0</td>\n      <td>3.0</td>\n      <td>2023-04-04 12:22:53.453</td>\n      <td>...</td>\n      <td>0</td>\n      <td>1</td>\n      <td>44573</td>\n      <td>1.026</td>\n      <td>0.585</td>\n      <td>27</td>\n      <td>4.015949</td>\n      <td>2.404949</td>\n      <td>5.783781</td>\n      <td>1.492830</td>\n    </tr>\n    <tr>\n      <th>437</th>\n      <td>1725</td>\n      <td>northernEurope</td>\n      <td>GCP</td>\n      <td>https://europe-west2-master-thesis-380616.clou...</td>\n      <td>bwaSplit</td>\n      <td>bwaSplitType</td>\n      <td>1.509</td>\n      <td>0.0</td>\n      <td>3.0</td>\n      <td>2023-04-04 12:23:48.245</td>\n      <td>...</td>\n      <td>0</td>\n      <td>1</td>\n      <td>44628</td>\n      <td>1.024</td>\n      <td>0.485</td>\n      <td>27</td>\n      <td>4.015949</td>\n      <td>2.506949</td>\n      <td>6.284794</td>\n      <td>1.661331</td>\n    </tr>\n    <tr>\n      <th>438</th>\n      <td>1726</td>\n      <td>northernEurope</td>\n      <td>GCP</td>\n      <td>https://europe-west2-master-thesis-380616.clou...</td>\n      <td>bwaSplit</td>\n      <td>bwaSplitType</td>\n      <td>1.535</td>\n      <td>3.0</td>\n      <td>3.0</td>\n      <td>2023-04-04 12:23:48.245</td>\n      <td>...</td>\n      <td>0</td>\n      <td>1</td>\n      <td>44628</td>\n      <td>1.055</td>\n      <td>0.480</td>\n      <td>27</td>\n      <td>4.015949</td>\n      <td>2.480949</td>\n      <td>6.155109</td>\n      <td>1.616254</td>\n    </tr>\n    <tr>\n      <th>439</th>\n      <td>1677</td>\n      <td>northernEurope</td>\n      <td>GCP</td>\n      <td>https://europe-west2-master-thesis-380616.clou...</td>\n      <td>bwaSplit</td>\n      <td>bwaSplitType</td>\n      <td>1.474</td>\n      <td>2.0</td>\n      <td>3.0</td>\n      <td>2023-04-04 12:21:54.893</td>\n      <td>...</td>\n      <td>0</td>\n      <td>1</td>\n      <td>44514</td>\n      <td>0.999</td>\n      <td>0.475</td>\n      <td>27</td>\n      <td>4.015949</td>\n      <td>2.541949</td>\n      <td>6.461506</td>\n      <td>1.724525</td>\n    </tr>\n  </tbody>\n</table>\n<p>431 rows × 36 columns</p>\n</div>"
     },
     "execution_count": 28,
     "metadata": {},
     "output_type": "execute_result"
    }
   ],
   "source": [
    "df[df['predictions'] > df['RTT']]"
   ],
   "metadata": {
    "collapsed": false,
    "ExecuteTime": {
     "end_time": "2023-06-26T16:21:33.682963800Z",
     "start_time": "2023-06-26T16:21:33.671085100Z"
    }
   }
  },
  {
   "cell_type": "code",
   "execution_count": 27,
   "outputs": [],
   "source": [],
   "metadata": {
    "collapsed": false,
    "ExecuteTime": {
     "end_time": "2023-06-26T16:21:30.425071800Z",
     "start_time": "2023-06-26T16:21:30.422072400Z"
    }
   }
  },
  {
   "cell_type": "code",
   "execution_count": null,
   "outputs": [],
   "source": [],
   "metadata": {
    "collapsed": false
   }
  }
 ],
 "metadata": {
  "kernelspec": {
   "display_name": "Python 3",
   "language": "python",
   "name": "python3"
  },
  "language_info": {
   "codemirror_mode": {
    "name": "ipython",
    "version": 2
   },
   "file_extension": ".py",
   "mimetype": "text/x-python",
   "name": "python",
   "nbconvert_exporter": "python",
   "pygments_lexer": "ipython2",
   "version": "2.7.6"
  }
 },
 "nbformat": 4,
 "nbformat_minor": 0
}
